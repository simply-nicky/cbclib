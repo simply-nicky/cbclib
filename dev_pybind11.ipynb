{
 "cells": [
  {
   "cell_type": "code",
   "execution_count": 1,
   "id": "c348f92e",
   "metadata": {},
   "outputs": [
    {
     "data": {
      "text/plain": [
       "(None, <pyximport._pyximport3.PyxImportMetaFinder at 0x2b1bba6ac490>)"
      ]
     },
     "execution_count": 1,
     "metadata": {},
     "output_type": "execute_result"
    }
   ],
   "source": [
    "%load_ext cython\n",
    "import os\n",
    "os.environ['XLA_FLAGS'] = '--xla_force_host_platform_device_count=64'\n",
    "import cbclib as cbc\n",
    "import numpy as np\n",
    "import pandas as pd\n",
    "import pyximport\n",
    "from importlib import reload\n",
    "import sys\n",
    "import hdf5plugin\n",
    "import h5py\n",
    "import pygmo\n",
    "import matplotlib.animation as animation\n",
    "from tqdm.auto import tqdm\n",
    "from scipy import ndimage\n",
    "from scipy.optimize import minimize, differential_evolution\n",
    "from scipy.interpolate import interpn\n",
    "\n",
    "import plotly.graph_objects as go\n",
    "import matplotlib.pyplot as plt\n",
    "import matplotlib.colors as mcolors\n",
    "from mpl_toolkits.axes_grid1 import make_axes_locatable\n",
    "from matplotlib.widgets import Slider\n",
    "from pickle import load, dump\n",
    "\n",
    "pyximport.install(reload_support=True, build_in_temp=False,\n",
    "                  build_dir='.pyxbld')"
   ]
  },
  {
   "cell_type": "code",
   "execution_count": 2,
   "id": "c1413b32",
   "metadata": {},
   "outputs": [
    {
     "name": "stdout",
     "output_type": "stream",
     "text": [
      "['__builtins__', '__doc__', '__file__', '__loader__', '__name__', '__package__', '__spec__', '__test__', 'det_to_k', 'det_to_k_vjp', 'k_to_det', 'k_to_det_vjp', 'k_to_smp', 'k_to_smp_vjp', 'np', 'source_lines', 'source_lines_vjp']\n"
     ]
    }
   ],
   "source": [
    "if sys.modules.get('dev'): # Maybe sys.modules is better?\n",
    "    dev = sys.modules.get('dev')\n",
    "    dev = reload(dev)\n",
    "else:\n",
    "    import dev\n",
    "print(dir(dev))"
   ]
  },
  {
   "cell_type": "code",
   "execution_count": 15,
   "metadata": {},
   "outputs": [
    {
     "name": "stdout",
     "output_type": "stream",
     "text": [
      "CPU times: user 2.13 s, sys: 4.78 ms, total: 2.14 s\n",
      "Wall time: 40.7 ms\n"
     ]
    }
   ],
   "source": [
    "inp = np.random.randint(0, 100, 4000000).reshape((2000, 2000))\n",
    "%time peaks = cbc.src.local_maxima(inp, axis=(0, 1), num_threads=64)"
   ]
  },
  {
   "cell_type": "code",
   "execution_count": 16,
   "metadata": {},
   "outputs": [
    {
     "name": "stdout",
     "output_type": "stream",
     "text": [
      "CPU times: user 1.07 ms, sys: 31 µs, total: 1.1 ms\n",
      "Wall time: 749 µs\n",
      "CPU times: user 1.51 ms, sys: 39 µs, total: 1.54 ms\n",
      "Wall time: 1.1 ms\n"
     ]
    }
   ],
   "source": [
    "n_samples, ndim, sigma = 100, 3, 5.0\n",
    "y = 10 * np.random.rand(n_samples)\n",
    "x = 100 * np.random.rand(n_samples, ndim)\n",
    "x_hat = 100 * np.random.rand(50, ndim)\n",
    "\n",
    "%time out = cbc.src.kr_predict(y, x, x_hat, sigma)\n",
    "%time out2 = cbc.bin.kr_predict(y, x, x_hat, sigma)"
   ]
  },
  {
   "cell_type": "code",
   "execution_count": 17,
   "metadata": {},
   "outputs": [
    {
     "data": {
      "text/plain": [
       "array([ True,  True,  True,  True,  True,  True,  True,  True,  True,\n",
       "        True,  True,  True,  True,  True,  True,  True,  True,  True,\n",
       "        True,  True,  True,  True,  True,  True,  True,  True,  True,\n",
       "        True,  True,  True,  True,  True,  True,  True,  True,  True,\n",
       "        True,  True,  True,  True,  True,  True,  True,  True,  True,\n",
       "        True,  True,  True,  True,  True])"
      ]
     },
     "execution_count": 17,
     "metadata": {},
     "output_type": "execute_result"
    }
   ],
   "source": [
    "np.isclose(out, out2)"
   ]
  },
  {
   "cell_type": "code",
   "execution_count": 13,
   "metadata": {},
   "outputs": [
    {
     "name": "stdout",
     "output_type": "stream",
     "text": [
      "CPU times: user 1.01 ms, sys: 40 µs, total: 1.05 ms\n",
      "Wall time: 477 µs\n",
      "CPU times: user 392 µs, sys: 0 ns, total: 392 µs\n",
      "Wall time: 244 µs\n"
     ]
    }
   ],
   "source": [
    "shape = (10, 20, 30)\n",
    "grid = tuple(np.arange(length) for length in np.array(shape)[::-1])\n",
    "coords = np.random.rand(500, 3)\n",
    "for i in range(len(shape)):\n",
    "    coords[:, i] *= shape[len(shape) - 1 - i]\n",
    "data = np.random.rand(*shape)\n",
    "\n",
    "%time out = cbc.src.binterpolate(data, grid, coords)\n",
    "%time out2 = cbc.bin.binterpolate(data, grid, coords)"
   ]
  },
  {
   "cell_type": "code",
   "execution_count": 14,
   "metadata": {},
   "outputs": [
    {
     "data": {
      "text/plain": [
       "True"
      ]
     },
     "execution_count": 14,
     "metadata": {},
     "output_type": "execute_result"
    }
   ],
   "source": [
    "np.all(np.isclose(out, out2, 1e-3, 1e-3))"
   ]
  },
  {
   "cell_type": "code",
   "execution_count": null,
   "id": "1b3001b7",
   "metadata": {},
   "outputs": [],
   "source": [
    "gauss = cbc.src.gaussian_kernel(sigma=10.0, order=1)\n",
    "gauss2 = cbc.bin.gaussian_kernel(sigma=10.0, order=1)"
   ]
  },
  {
   "cell_type": "code",
   "execution_count": null,
   "id": "efd99262",
   "metadata": {},
   "outputs": [],
   "source": [
    "%matplotlib widget\n",
    "fig, ax = plt.subplots(figsize=(6, 3))\n",
    "ax.plot(gauss)\n",
    "ax.plot(gauss2)\n",
    "fig.tight_layout()\n",
    "plt.show()"
   ]
  },
  {
   "cell_type": "code",
   "execution_count": null,
   "id": "978842ce",
   "metadata": {},
   "outputs": [],
   "source": [
    "lines = np.tile(np.array([0.0, 0.0, 1.0, 1.0, 20.0]), (100, 100, 1))\n",
    "lines[..., [0, 2]] += np.random.randint(0, 500, (1, 100, 1))\n",
    "lines[..., [1, 3]] += np.random.randint(0, 500, (1, 100, 1))\n",
    "lines = list(lines)"
   ]
  },
  {
   "cell_type": "code",
   "execution_count": null,
   "id": "1bb41147",
   "metadata": {},
   "outputs": [],
   "source": [
    "%time out = cbc.src.draw_line_table(lines[0], (500, 500), profile='quad', num_threads=1)\n",
    "%time out2 = cbc.bin.draw_line_table(lines[0], (500, 500), profile='quad')"
   ]
  },
  {
   "cell_type": "code",
   "execution_count": null,
   "id": "250a39bb",
   "metadata": {},
   "outputs": [],
   "source": [
    "frame = np.zeros((500, 500))\n",
    "np.add.at(frame, (out[1], out[0]), out[2])"
   ]
  },
  {
   "cell_type": "code",
   "execution_count": null,
   "id": "1953cc0b",
   "metadata": {},
   "outputs": [],
   "source": [
    "frame = frame\n",
    "\n",
    "%matplotlib widget\n",
    "fig, ax = plt.subplots(figsize=(6, 6))\n",
    "ax.imshow(frame, vmin=0, vmax=1)\n",
    "for line in lines[0]:\n",
    "    ax.plot(line[:4:2], line[1:4:2], c='r')\n",
    "ax.set_ylim(frame.shape[0], 0)\n",
    "ax.set_xlim(0, frame.shape[1])\n",
    "fig.tight_layout()\n",
    "plt.show()"
   ]
  },
  {
   "cell_type": "code",
   "execution_count": null,
   "id": "e55a5385",
   "metadata": {},
   "outputs": [],
   "source": [
    "from typing import Tuple\n",
    "\n",
    "idxs = np.arange(-6, 6)\n",
    "size = (0, 5)\n",
    "\n",
    "def mirror(inp: np.ndarray, size: Tuple[int]):\n",
    "    inp = inp - size[0]\n",
    "    clip = size[1] - size[0] - 1\n",
    "    quotient = (inp // clip) % 2\n",
    "    return quotient * clip + (1 - 2 * quotient) * (inp % clip) + size[0]\n",
    "\n",
    "def reflect(inp: np.ndarray, size: Tuple[int]):\n",
    "    inp = inp - size[0]\n",
    "    clip = size[1] - size[0]\n",
    "    quotient = (inp // (clip)) % 2\n",
    "    return quotient * (clip - 1) + (1 - 2 * quotient) * (inp % (clip)) + size[0]\n",
    "\n",
    "def wrap(inp: np.ndarray, size: Tuple[int]):\n",
    "    inp = inp - size[0]\n",
    "    clip = size[1] - size[0]\n",
    "    return (inp % clip) + size[0]\n",
    "\n",
    "print(reflect(idxs, size))\n",
    "print(mirror(idxs, size))\n",
    "print(wrap(idxs, size))"
   ]
  },
  {
   "cell_type": "code",
   "execution_count": null,
   "id": "a750c929",
   "metadata": {},
   "outputs": [],
   "source": [
    "arr = np.random.rand(3, 3)"
   ]
  },
  {
   "cell_type": "code",
   "execution_count": null,
   "id": "3790f8e4",
   "metadata": {},
   "outputs": [],
   "source": [
    "from scipy.ndimage import median_filter\n",
    "\n",
    "mode, size = 'wrap', (10, 10)\n",
    " \n",
    "%time out = cbc.src.median_filter(arr, size=size, mode=mode)\n",
    "%time out2 = cbc.bin.median_filter(arr, size=size, mode=mode)\n",
    "%time out3 = median_filter(arr, size=size, mode=mode)\n",
    "\n",
    "print(out == out3)"
   ]
  },
  {
   "cell_type": "code",
   "execution_count": null,
   "id": "1cd62e66",
   "metadata": {},
   "outputs": [],
   "source": [
    "arr = np.random.rand(100, 100, 100)"
   ]
  },
  {
   "cell_type": "code",
   "execution_count": null,
   "id": "faec9252",
   "metadata": {},
   "outputs": [],
   "source": [
    "axis = -1\n",
    " \n",
    "%time out = cbc.src.median(arr, axis=axis)\n",
    "%time out2 = cbc.bin.median(arr, axis=axis)\n",
    "%time out3 = np.median(arr, axis=axis)\n",
    "\n",
    "print(np.isclose(out, out2))"
   ]
  },
  {
   "cell_type": "code",
   "execution_count": null,
   "id": "9a58d917",
   "metadata": {},
   "outputs": [],
   "source": [
    "arr = np.ones((10, 10))\n",
    "kernel = np.random.rand(5)\n",
    "\n",
    "%time out = cbc.src.fft_convolve(arr, kernel, axis=-1)\n",
    "%time out2 = cbc.bin.fft_convolve(arr, kernel, axis=-1)\n",
    "\n",
    "np.isclose(out, out2)"
   ]
  },
  {
   "cell_type": "code",
   "execution_count": null,
   "id": "7d1b5ff1",
   "metadata": {},
   "outputs": [],
   "source": [
    "arr = np.random.rand(10, 20)\n",
    "\n",
    "%time out = cbc.src.gaussian_filter(arr, sigma=1.0)\n",
    "%time out2 = cbc.bin.gaussian_filter(arr, sigma=1.0)\n",
    "\n",
    "np.isclose(out, out2)"
   ]
  },
  {
   "cell_type": "code",
   "execution_count": null,
   "id": "19929446",
   "metadata": {},
   "outputs": [],
   "source": [
    "arr = np.random.randint(0, 100000, size=(100, 100))\n",
    "\n",
    "%time out2 = np.array([cbc.bin.next_fast_len(target, backend='fftw') for target in arr.ravel()]).reshape(arr.shape)\n",
    "%time out = cbc.src.next_fast_len(arr)\n",
    "\n",
    "out == out2"
   ]
  },
  {
   "cell_type": "code",
   "execution_count": null,
   "id": "c1a01194",
   "metadata": {},
   "outputs": [],
   "source": [
    "basis = np.array([[-0.00093604, -0.00893389, -0.00049815],\n",
    "                  [0.00688718, -0.00039195, -0.00573877],\n",
    "                  [0.01180108, -0.00199115,  0.01430421]])\n",
    "kmin = np.array([0.00876745, 0.00437237, 0.99995201])\n",
    "kmax = np.array([0.03538482, 0.03246592, 0.99884627])\n",
    "hkl = np.array([[ -8,  18,   5],\n",
    "                [ 24,   4,   1],\n",
    "                [  6, -12,  -5],\n",
    "                [ -4,  -2,  -1],\n",
    "                [ 17,  15,   5],\n",
    "                [-19,  -3,  -3],\n",
    "                [  0,  -7,  -3],\n",
    "                [ 24,  -6,  -3],\n",
    "                [ 16,  20,   6],\n",
    "                [ -1,   9,   3]])\n",
    "hkl = np.tile(hkl, (10, 1))\n",
    "\n",
    "%time kin = dev.source_lines(hkl=hkl, basis=basis.ravel(), kmin=kmin, kmax=kmax)[0]\n",
    "%time kin2 = cbc.src.source_lines(hkl=hkl, basis=basis, kmin=kmin[:2], kmax=kmax[:2])[0]\n",
    "\n",
    "np.isclose(np.sort(kin, axis=1), np.sort(kin2, axis=1))"
   ]
  },
  {
   "cell_type": "code",
   "execution_count": null,
   "id": "41900cb1",
   "metadata": {},
   "outputs": [],
   "source": [
    "crop = cbc.Crop(roi=(1100, 3260, 1040, 3108))\n",
    "setup = cbc.ScanSetup.import_ini('results/Lysozyme_June_2021/exp_geom_232_ref_2.ini')\n",
    "\n",
    "scan_num = 232\n",
    "dir_path = '/asap3/petra3/gpfs/p11/2021/data/11010570/raw'\n",
    "h5_dir = os.path.join(dir_path, f'scan_frames/Scan_{scan_num:d}')\n",
    "h5_files = sorted([os.path.join(h5_dir, path) for path in os.listdir(h5_dir)\n",
    "                   if path.endswith(('LambdaFar.nxs', '.h5'))])\n",
    "data = cbc.CrystData(cbc.CXIStore(h5_files), transform=crop)\n",
    "\n",
    "wf_data = cbc.CrystData(cbc.CXIStore(f'results/Lysozyme_June_2021/scan_250_whitefield.h5'),\n",
    "                        transform=crop).load('whitefield')"
   ]
  },
  {
   "cell_type": "code",
   "execution_count": null,
   "id": "2f3a42e6",
   "metadata": {},
   "outputs": [],
   "source": [
    "idxs = np.arange(0, 300, 5)\n",
    "\n",
    "data = data.clear().load(idxs=idxs)"
   ]
  },
  {
   "cell_type": "code",
   "execution_count": null,
   "id": "6afea330",
   "metadata": {},
   "outputs": [],
   "source": [
    "x0, y0 = crop.forward_points(x=setup.pupil_roi[2], y=setup.pupil_roi[0])\n",
    "x1, y1 = crop.forward_points(x=setup.pupil_roi[3], y=setup.pupil_roi[1])\n",
    "pad = 40\n",
    "roi = (int(y0) - pad, int(y1) + pad, int(x0) - pad, int(x1) + pad)"
   ]
  },
  {
   "cell_type": "code",
   "execution_count": null,
   "id": "cee97e6c",
   "metadata": {},
   "outputs": [],
   "source": [
    "frames = np.arange(data.shape[0])\n",
    "%time wf = cbc.bin.robust_mean(inp=data.data[frames] * data.mask[frames], \\\n",
    "                               axis=0, r0=0.0, r1=0.5, n_iter=12, lm=9.0, \\\n",
    "                               num_threads=data.num_threads)\n",
    "%time wf2 = cbc.src.robust_mean(inp=data.data[frames], mask=data.mask[frames], \\\n",
    "                                axis=0, r0=0.0, r1=0.5, n_iter=12, lm=9.0, \\\n",
    "                                num_threads=data.num_threads)"
   ]
  },
  {
   "cell_type": "code",
   "execution_count": null,
   "id": "34943ecf",
   "metadata": {},
   "outputs": [],
   "source": [
    "W = wf\n",
    "std = np.sqrt(wf)\n",
    "y = np.where(std, data.data / std, 0.0)\n",
    "W = np.where(std, W / std, 0.0)\n",
    "\n",
    "%time x = cbc.bin.robust_lsq(W=W, y=y, axis=(1, 2), r0=0.0, r1=0.5, n_iter=12, lm=9.0, \\\n",
    "                             num_threads=data.num_threads)\n",
    "%time x2 = cbc.src.robust_lsq(W=W, y=y, mask=data.mask, axis=(1, 2), \\\n",
    "                              r0=0.0, r1=0.5, n_iter=12, lm=9.0, \\\n",
    "                              num_threads=data.num_threads)\n",
    "\n",
    "print(x)\n",
    "print(x2)"
   ]
  }
 ],
 "metadata": {
  "kernelspec": {
   "display_name": "cbc",
   "language": "python",
   "name": "python3"
  },
  "language_info": {
   "codemirror_mode": {
    "name": "ipython",
    "version": 3
   },
   "file_extension": ".py",
   "mimetype": "text/x-python",
   "name": "python",
   "nbconvert_exporter": "python",
   "pygments_lexer": "ipython3",
   "version": "3.9.17"
  }
 },
 "nbformat": 4,
 "nbformat_minor": 5
}
