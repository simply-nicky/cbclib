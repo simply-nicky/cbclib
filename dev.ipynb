{
 "cells": [
  {
   "cell_type": "code",
   "execution_count": null,
   "metadata": {},
   "outputs": [],
   "source": [
    "%load_ext cython\n",
    "import os\n",
    "import cbclib as cbc\n",
    "import numpy as np\n",
    "import pandas as pd\n",
    "import pyximport\n",
    "from importlib import reload\n",
    "import sys\n",
    "import hdf5plugin\n",
    "import h5py\n",
    "import pygmo\n",
    "import matplotlib.animation as animation\n",
    "from tqdm.auto import tqdm\n",
    "from scipy import ndimage\n",
    "from scipy.optimize import minimize, differential_evolution\n",
    "from scipy.interpolate import interpn\n",
    "\n",
    "import plotly.graph_objects as go\n",
    "import matplotlib.pyplot as plt\n",
    "import matplotlib.colors as mcolors\n",
    "from mpl_toolkits.axes_grid1 import make_axes_locatable\n",
    "from matplotlib.widgets import Slider\n",
    "from pickle import load, dump\n",
    "\n",
    "pyximport.install(reload_support=True, build_in_temp=False,\n",
    "                  build_dir='.pyxbld')"
   ]
  },
  {
   "cell_type": "code",
   "execution_count": null,
   "metadata": {},
   "outputs": [],
   "source": [
    "if sys.modules.get('dev'): # Maybe sys.modules is better?\n",
    "    dev = sys.modules.get('dev')\n",
    "    dev = reload(dev)\n",
    "else:\n",
    "    import dev\n",
    "print(dir(dev))"
   ]
  },
  {
   "cell_type": "code",
   "execution_count": null,
   "metadata": {},
   "outputs": [],
   "source": [
    "setup = cbc.ScanSetup.import_ini('results/exp_geom_232_ref_2.ini')\n",
    "table = cbc.CBCTable.import_hdf('results/scan_232_modeled_part.h5', 'data', setup)\n",
    "table_det = cbc.CBCTable.import_hdf('results/scan_232_detected.h5', 'data', setup)\n",
    "crop = cbc.Crop(roi=(1100, 3260, 1040, 3108))\n",
    "basis = cbc.Basis.import_ini('results/scan_232_basis_ref_2.ini')\n",
    "samples = cbc.ScanSamples.import_dataframe(pd.read_hdf('results/scan_232_samples_log_2.h5', 'data'))"
   ]
  },
  {
   "cell_type": "code",
   "execution_count": null,
   "metadata": {},
   "outputs": [],
   "source": [
    "scan_num = 232\n",
    "dir_path = '/asap3/petra3/gpfs/p11/2021/data/11010570/raw'\n",
    "h5_dir = os.path.join(dir_path, f'scan_frames/Scan_{scan_num:d}')\n",
    "h5_files = sorted([os.path.join(h5_dir, path) for path in os.listdir(h5_dir)\n",
    "                   if path.endswith(('LambdaFar.nxs', '.h5'))])\n",
    "data = cbc.CrystData(cbc.CXIStore(h5_files), transform=crop)\n",
    "\n",
    "wf_data = cbc.CrystData(cbc.CXIStore(f'results/scan_250_whitefield.h5'),\n",
    "                        transform=crop).load('whitefield')"
   ]
  },
  {
   "cell_type": "code",
   "execution_count": null,
   "metadata": {},
   "outputs": [],
   "source": [
    "idxs = np.arange(0, 10)\n",
    "\n",
    "data = data.clear().load(idxs=idxs)\n",
    "data = data.update_mask(method='range-bad', vmax=10000000)\n",
    "data = data.mask_pupil(setup, padding=60)\n",
    "data = data.import_whitefield(wf_data.whitefield)\n",
    "data = data.blur_pupil(setup, padding=80, blur=20)"
   ]
  },
  {
   "cell_type": "code",
   "execution_count": null,
   "metadata": {},
   "outputs": [],
   "source": [
    "data = data.import_patterns(table.table)\n",
    "data = data.update_background()"
   ]
  },
  {
   "cell_type": "code",
   "execution_count": null,
   "metadata": {},
   "outputs": [],
   "source": [
    "det_obj = data.lsd_detector()\n",
    "det_obj = det_obj.generate_patterns(vmin=0.9, vmax=5.0, size=(1, 3, 3))"
   ]
  },
  {
   "cell_type": "code",
   "execution_count": null,
   "metadata": {},
   "outputs": [],
   "source": [
    "det_res = det_obj.detect(cutoff=90.0, filter_threshold=12.0, group_threshold=0.65, dilation=1.5)"
   ]
  },
  {
   "cell_type": "code",
   "execution_count": null,
   "metadata": {},
   "outputs": [],
   "source": [
    "det_res = det_res.update_patterns((1.5, 2.5, 8.5))"
   ]
  },
  {
   "cell_type": "code",
   "execution_count": null,
   "metadata": {},
   "outputs": [],
   "source": [
    "det_res.patterns[0].min(), det_res.patterns[0].max()"
   ]
  },
  {
   "cell_type": "code",
   "execution_count": null,
   "metadata": {},
   "outputs": [],
   "source": [
    "%matplotlib widget\n",
    "fig, ax = plt.subplots(figsize=(8, 8))\n",
    "ax.imshow(det_res.patterns[0], vmin=0.0, vmax=0.5, cmap='gray_r')\n",
    "# for line in det_res.streaks[0].to_numpy():\n",
    "#     ax.plot(line[:4:2], line[1:4:2], c='r', alpha=0.1)\n",
    "ax.set_xlim(0, det_obj.shape[2])\n",
    "ax.set_ylim(det_obj.shape[1], 0)\n",
    "plt.show()"
   ]
  },
  {
   "cell_type": "code",
   "execution_count": null,
   "metadata": {},
   "outputs": [],
   "source": [
    "mdl_det = data.model_detector(basis, samples, setup)"
   ]
  },
  {
   "cell_type": "code",
   "execution_count": null,
   "metadata": {},
   "outputs": [],
   "source": [
    "mdl_det = mdl_det.detect(threshold=1.0, width=5.0)"
   ]
  },
  {
   "cell_type": "code",
   "execution_count": null,
   "metadata": {},
   "outputs": [],
   "source": [
    "mdl_det = mdl_det.update_patterns((1.5, 2.5, 7.0))\n",
    "table = mdl_det.export_table()"
   ]
  },
  {
   "cell_type": "code",
   "execution_count": null,
   "metadata": {},
   "outputs": [],
   "source": [
    "model = mdl_det.models[0]"
   ]
  },
  {
   "cell_type": "code",
   "execution_count": null,
   "metadata": {},
   "outputs": [],
   "source": [
    "width = 3.0\n",
    "\n",
    "hkl = model.generate_hkl(0.3)\n",
    "kin, mask = cbc.bin.calc_source_lines(basis=model.basis.mat, hkl=hkl, kin_min=model.setup.kin_min,\n",
    "                                      kin_max=model.setup.kin_max)\n",
    "\n",
    "foc_dist = (model.setup.foc_pos - model.sample.position)[2]\n",
    "sx0, sy0 = model.setup._k_to_det(model.setup.kin_center,\n",
    "                                 np.array([0.0, 0.0, foc_dist]))\n",
    "sx, sy = model.setup._k_to_det(kin,\n",
    "                               np.array([0.0, 0.0, foc_dist]))\n",
    "\n",
    "hkl = hkl[mask]\n",
    "kout = kin + hkl.dot(model.basis.mat)[:, None]\n",
    "\n",
    "x, y = model.sample.kout_to_detector(kout, model.setup)\n",
    "x, y = x + sx - sx0, y + sy - sy0\n",
    "if model.transform:\n",
    "    x, y = model.transform.forward_points(x, y)\n",
    "\n",
    "if model.shape:\n",
    "    mask = (0 < y).any(axis=1) & (y < model.shape[0]).any(axis=1) & \\\n",
    "           (0 < x).any(axis=1) & (x < model.shape[1]).any(axis=1)\n",
    "    x, y, hkl = x[mask], y[mask], hkl[mask]\n",
    "streaks = cbc.Streaks(x0=x[:, 0], y0=y[:, 0], x1=x[:, 1], y1=y[:, 1],\n",
    "                      h=hkl[:, 0], k=hkl[:, 1], l=hkl[:, 2],\n",
    "                      width=width * np.ones(x.shape[0]))"
   ]
  },
  {
   "cell_type": "code",
   "execution_count": null,
   "metadata": {},
   "outputs": [],
   "source": [
    "%matplotlib widget\n",
    "fig, ax = plt.subplots(figsize=(8, 8))\n",
    "ax.imshow(mdl_det.data[0], vmin=0.5, vmax=5.0, cmap='gray_r')\n",
    "for line in streaks.to_numpy():\n",
    "    ax.plot(line[:4:2], line[1:4:2], alpha=0.3, c='r')\n",
    "    \n",
    "ax.set_ylim(mdl_det.shape[1], 0)\n",
    "ax.set_xlim(0, mdl_det.shape[2])\n",
    "plt.show()"
   ]
  },
  {
   "cell_type": "code",
   "execution_count": null,
   "metadata": {},
   "outputs": [],
   "source": [
    "frame_idx = 63\n",
    "\n",
    "table_det.setup = scan_setup\n",
    "problem = table_det.refine_sample(frame_idx, (4e-2, 4e-3, 0.0), basis, samples[frame_idx],\n",
    "                                  0.3, 3.0, 0.5)"
   ]
  },
  {
   "cell_type": "code",
   "execution_count": null,
   "metadata": {},
   "outputs": [],
   "source": [
    "uda = pygmo.de(gen=300)\n",
    "algo = pygmo.algorithm(uda)\n",
    "prob = pygmo.problem(problem)\n",
    "pops = [pygmo.population(size=10, prob=prob, b=pygmo.bfe()) for _ in range(32)]\n",
    "archi = pygmo.archipelago()\n",
    "for pop in pops:\n",
    "    archi.push_back(algo=algo, pop=pop)"
   ]
  },
  {
   "cell_type": "code",
   "execution_count": null,
   "metadata": {},
   "outputs": [],
   "source": [
    "archi.evolve()\n",
    "%time archi.wait()\n",
    "x = archi.get_champions_x()[np.argmin(archi.get_champions_f())]"
   ]
  },
  {
   "cell_type": "code",
   "execution_count": null,
   "metadata": {},
   "outputs": [],
   "source": [
    "problem.fitness(problem.x0), problem.fitness(x)"
   ]
  },
  {
   "cell_type": "code",
   "execution_count": null,
   "metadata": {},
   "outputs": [],
   "source": [
    "%matplotlib widget\n",
    "idx = 0\n",
    "\n",
    "fig, ax = plt.subplots(1, 1, figsize=(8, 8))\n",
    "# ax.imshow(table.pattern_image(frame_idx), vmin=0.0, vmax=0.5, cmap='gray_r')\n",
    "ax.imshow(divisor[idx], vmin=0, vmax=20)\n",
    "# ax.imshow(data.data[0], cmap='gray_r', vmax=5.0)\n",
    "# for line in mdl_det.streaks[idx].to_numpy():\n",
    "#     ax.plot(line[:4:2], line[1:4:2], c='r', alpha=0.4)\n",
    "# for line in problem.generate_streaks(problem.x0).to_numpy():\n",
    "#     ax.plot(line[:4:2], line[1:4:2], c='r', alpha=0.4)\n",
    "# for line in problem2.generate_streaks(x2).to_numpy():\n",
    "#     ax.plot(line[:4:2], line[1:4:2], c='b', alpha=0.4)\n",
    "\n",
    "# ax.set_xlim(0, data.shape[2])\n",
    "# ax.set_ylim(data.shape[1], 0)\n",
    "plt.tight_layout()\n",
    "plt.show()"
   ]
  },
  {
   "cell_type": "code",
   "execution_count": null,
   "metadata": {},
   "outputs": [],
   "source": [
    "fig, ax = plt.subplots(figsize=(8, 8))\n",
    "ax.imshow(det_res.data[0], vmin=0.5, vmax=5.0, cmap='gray_r')\n",
    "for line in det_res.streaks[0].to_numpy():\n",
    "    ax.plot(line[:4:2], line[1:4:2], c='r', alpha=0.4)\n",
    "ax.set_xlim(0, det_obj.data.shape[2])\n",
    "ax.set_ylim(det_obj.data.shape[1], 0)\n",
    "\n",
    "plt.tight_layout()\n",
    "plt.show()"
   ]
  },
  {
   "cell_type": "markdown",
   "metadata": {},
   "source": [
    "# Intensity merging"
   ]
  },
  {
   "cell_type": "code",
   "execution_count": null,
   "metadata": {},
   "outputs": [],
   "source": [
    "if sys.modules.get('dev'): # Maybe sys.modules is better?\n",
    "    dev = sys.modules.get('dev')\n",
    "    dev = reload(dev)\n",
    "else:\n",
    "    import dev\n",
    "print(dir(dev))"
   ]
  },
  {
   "cell_type": "code",
   "execution_count": null,
   "metadata": {},
   "outputs": [],
   "source": [
    "setup = cbc.ScanSetup.import_ini('results/exp_geom_232.ini')\n",
    "table = cbc.CBCTable.import_hdf('results/scan_232_modeled.h5', 'data', setup)\n",
    "crop = cbc.Crop(roi=(1100, 3260, 1040, 3108))\n",
    "basis = cbc.Basis.import_ini('results/scan_232_basis.ini')\n",
    "samples = cbc.ScanSamples.import_dataframe(pd.read_hdf('results/scan_232_samples_trial_4.h5', 'data'))"
   ]
  },
  {
   "cell_type": "code",
   "execution_count": null,
   "metadata": {},
   "outputs": [],
   "source": [
    "part = table.drop_duplicates(method='keep_best')\n",
    "part = part[part.table['frames'] < 100]\n",
    "part = part[~part.table['h'].isna()]"
   ]
  },
  {
   "cell_type": "code",
   "execution_count": null,
   "metadata": {},
   "outputs": [],
   "source": [
    "scaler = part.scale((40, 38), basis, samples, 64)"
   ]
  },
  {
   "cell_type": "code",
   "execution_count": null,
   "metadata": {},
   "outputs": [],
   "source": [
    "scaler = scaler.train(1e-3)"
   ]
  },
  {
   "cell_type": "code",
   "execution_count": null,
   "metadata": {},
   "outputs": [],
   "source": [
    "scaler0 = part.scale((40, 38), basis, samples, 64)\n",
    "scaler0.prof = scaler.prof\n",
    "scaler0 = scaler0.replace(sfac=np.ones(scaler.signal.size, dtype=np.float32),\n",
    "                          sfac_err=np.zeros(scaler.signal.size, dtype=np.float32)).update_xtal(1e-3)"
   ]
  },
  {
   "cell_type": "code",
   "execution_count": null,
   "metadata": {},
   "outputs": [],
   "source": [
    "%matplotlib widget\n",
    "indices = np.argsort(scaler.iidxs[1:] - scaler.iidxs[:-1])\n",
    "idx = indices[-1]\n",
    "\n",
    "fig, ax = plt.subplots(1, 2, figsize=(8, 4), gridspec_kw={'width_ratios': [0.1, 1.0]})\n",
    "\n",
    "slider = Slider(ax=ax[0], label='Streak', valmin=0, valmax=99,\n",
    "                valstep=np.arange(100), valinit=0, orientation=\"vertical\")\n",
    "\n",
    "ln0, = ax[1].plot(scaler.signal[scaler.iidxs[idx]:scaler.iidxs[idx + 1]])\n",
    "ln1, = ax[1].plot(scaler.sfac[scaler.iidxs[idx]:scaler.iidxs[idx + 1]] *\n",
    "                  scaler.xtal_bi[scaler.iidxs[idx]:scaler.iidxs[idx + 1]] *\n",
    "                  scaler.prof[scaler.iidxs[idx]:scaler.iidxs[idx + 1]])\n",
    "ax[1].grid(True)\n",
    "\n",
    "def update(val):\n",
    "    idx = indices[-slider.val - 1]\n",
    "    ln0.set_data(np.arange(scaler.iidxs[idx + 1] - scaler.iidxs[idx]),\n",
    "                 scaler.signal[scaler.iidxs[idx]:scaler.iidxs[idx + 1]])\n",
    "    ln1.set_data(np.arange(scaler.iidxs[idx + 1] - scaler.iidxs[idx]),\n",
    "                 scaler.sfac[scaler.iidxs[idx]:scaler.iidxs[idx + 1]] *\n",
    "                 scaler.xtal_bi[scaler.iidxs[idx]:scaler.iidxs[idx + 1]] *\n",
    "                 scaler.prof[scaler.iidxs[idx]:scaler.iidxs[idx + 1]])\n",
    "\n",
    "    ax[1].relim()\n",
    "    ax[1].autoscale_view()\n",
    "    fig.canvas.draw_idle()\n",
    "\n",
    "slider.on_changed(update)\n",
    "\n",
    "fig.tight_layout()\n",
    "plt.show()"
   ]
  },
  {
   "cell_type": "code",
   "execution_count": null,
   "metadata": {},
   "outputs": [],
   "source": [
    "%matplotlib widget\n",
    "fig, ax = plt.subplots(1, 3, figsize=(8, 4), gridspec_kw={'width_ratios': [0.1, 1.0, 1.0]})\n",
    "\n",
    "slider = Slider(ax=ax[0], label='Frame', valmin=0, valmax=scaler.xtal.shape[0] - 1,\n",
    "                valstep=np.arange(0, scaler.xtal.shape[0]),\n",
    "                valinit=0, orientation=\"vertical\")\n",
    "\n",
    "im0 = ax[1].imshow(scaler0.xtal.val[0], vmin=0.2, vmax=2.5)\n",
    "im1 = ax[2].imshow(scaler.xtal.val[0], vmin=0.2, vmax=2.5)\n",
    "\n",
    "def update(val):\n",
    "    im0.set_data(scaler0.xtal.val[slider.val])\n",
    "    im1.set_data(scaler.xtal.val[slider.val])\n",
    "    fig.canvas.draw_idle()\n",
    "\n",
    "slider.on_changed(update)\n",
    "\n",
    "fig.tight_layout()\n",
    "plt.show()"
   ]
  },
  {
   "cell_type": "code",
   "execution_count": null,
   "metadata": {},
   "outputs": [],
   "source": [
    "scaler.export_sfac('results/test2.hkl', symmetry='4mm')"
   ]
  },
  {
   "cell_type": "code",
   "execution_count": null,
   "metadata": {},
   "outputs": [],
   "source": [
    "sfac = np.empty(scaler.hkl.shape[0])\n",
    "sfac[scaler.hkl_idxs] = scaler.sfac[scaler.iidxs[:-1]]\n",
    "sfac_err = np.empty(scaler.hkl.shape[0])\n",
    "sfac_err[scaler.hkl_idxs] = scaler.sfac_err[scaler.iidxs[:-1]]\n",
    "norm = sfac_err.mean()\n",
    "idxs = np.lexsort(np.abs(scaler.hkl.T)[::-1])\n",
    "\n",
    "\n",
    "hkl_sym = np.abs(scaler.hkl[idxs])\n",
    "hkl_sym = np.concatenate((np.sort(hkl_sym[:, :2], axis=1), hkl_sym[:, 2:]), axis=1)\n",
    "\n",
    "hkl_mrg, inv, n_meas = np.unique(hkl_sym, axis=0, return_counts=True,\n",
    "                                 return_inverse=True)\n",
    "sfac_mrg = np.zeros(hkl_mrg.shape[0])\n",
    "dsfac_mrg = np.zeros(hkl_mrg.shape[0])\n",
    "np.add.at(sfac_mrg, inv, sfac[idxs])\n",
    "np.add.at(dsfac_mrg, inv, (sfac_err * sfac)[idxs])\n",
    "dsfac_mrg = dsfac_mrg / sfac_mrg / norm\n",
    "sfac_mrg = sfac_mrg / n_meas / norm\n",
    "\n",
    "np.savetxt('results/test2.hkl', np.concatenate((hkl_mrg, sfac_mrg[:, None], dsfac_mrg[:, None],\n",
    "                                 n_meas[:, None]), axis=1),\n",
    "           ' %4d %4d %4d %10.2f %10.2f %4d')"
   ]
  },
  {
   "cell_type": "code",
   "execution_count": null,
   "metadata": {},
   "outputs": [],
   "source": [
    "# hkl_file = 'results/test2.hkl'\n",
    "hkl_file = 'results/1azf.pdb.hkl'\n",
    "# hkl_file = 'results/scan_232_NI_crystfel.hkl'\n",
    "hkl_file2 = 'results/test2.hkl'\n",
    "\n",
    "basis = cbc.Basis.import_ini('results/scan_232_basis.ini')\n",
    "hkl = np.loadtxt(hkl_file)[:, :3].astype(int)\n",
    "sfac = np.loadtxt(hkl_file)[:, 3]\n",
    "\n",
    "rec_vec = hkl.dot(basis.mat)\n",
    "rec_abs = (rec_vec**2).sum(axis=-1)\n",
    "\n",
    "hkl2 = np.loadtxt(hkl_file2)[:, :3].astype(int)\n",
    "sfac2 = np.loadtxt(hkl_file2)[:, 3]\n",
    "\n",
    "rec_vec2 = hkl2.dot(basis.mat)\n",
    "rec_abs2 = (rec_vec2**2).sum(axis=-1)"
   ]
  },
  {
   "cell_type": "code",
   "execution_count": null,
   "metadata": {},
   "outputs": [],
   "source": [
    "%matplotlib widget\n",
    "x = np.linspace(0, 0.10)\n",
    "sfac_prof = cbc.bin.kr_predict(np.log(sfac) - np.log(sfac.max()),\n",
    "                           rec_abs[:, None], x[:, None], 1e-3, 4e-3)\n",
    "sfac_prof2 = cbc.bin.kr_predict(np.log(sfac2) - np.log(sfac2.max()),\n",
    "                           rec_abs2[:, None], x[:, None], 1e-3, 4e-3)\n",
    "\n",
    "fig, ax = plt.subplots(figsize=(8, 4))\n",
    "ax.scatter(rec_abs, np.log(sfac) - np.log(sfac.max()), s=1)\n",
    "ax.plot(x, sfac_prof, c='r')\n",
    "\n",
    "ax.scatter(rec_abs2, np.log(sfac2) - np.log(sfac2.max()), s=1)\n",
    "ax.plot(x, sfac_prof2, c='b')\n",
    "ax.set_xlim(-0.01, 0.10)\n",
    "# ax.set_ylim(-10, 0)\n",
    "plt.show()"
   ]
  },
  {
   "cell_type": "markdown",
   "metadata": {},
   "source": [
    "# Streak detection, June 2021"
   ]
  },
  {
   "cell_type": "code",
   "execution_count": null,
   "metadata": {},
   "outputs": [],
   "source": [
    "dir_path = '/asap3/petra3/gpfs/p11/2021/data/11010570/raw'\n",
    "crop = cbc.Crop(roi=(1100, 3260, 1040, 3108))\n",
    "scan_setup = cbc.ScanSetup.import_ini('results/exp_geom_232.ini')\n",
    "data_dict = {}"
   ]
  },
  {
   "cell_type": "code",
   "execution_count": null,
   "metadata": {},
   "outputs": [],
   "source": [
    "scan_num = 209 # whitefield, 2s exposure\n",
    "\n",
    "wf_data = cbc.converter_petra(dir_path, scan_num, transform=crop)\n",
    "wf_data = wf_data.load('data', processes=16)\n",
    "\n",
    "wf_data = wf_data.update_mask(method='range-bad', vmax=10000000)\n",
    "wf_data = wf_data.update_whitefield(method='mean')"
   ]
  },
  {
   "cell_type": "code",
   "execution_count": null,
   "metadata": {},
   "outputs": [],
   "source": [
    "wf_data = wf_data.update_output_file(cbc.CXIStore(f'results/scan_{scan_num:d}_whitefield.h5', 'w'))\n",
    "wf_data.save(attributes=['mask', 'whitefield', 'data', 'translations', 'tilts'], mode='overwrite')"
   ]
  },
  {
   "cell_type": "code",
   "execution_count": null,
   "metadata": {},
   "outputs": [],
   "source": [
    "scan_num = 209 # whitefield, 2s exposure\n",
    "\n",
    "file = cbc.CXIStore(f'results/scan_{scan_num:d}_whitefield.h5', 'r')\n",
    "wf_data = cbc.CrystData(file, transform=None)\n",
    "wf_data = wf_data.load()"
   ]
  },
  {
   "cell_type": "code",
   "execution_count": null,
   "metadata": {},
   "outputs": [],
   "source": [
    "scan_num = 213 # B12 protein crystal, 1s exposure, 50 frames\n",
    "pupil = (1050, 1200,  860,  990)\n",
    "\n",
    "data = cbc.converter_petra(dir_path, scan_num, mask=mask)"
   ]
  },
  {
   "cell_type": "code",
   "execution_count": null,
   "metadata": {},
   "outputs": [],
   "source": [
    "# Lysozyme crystal, 1s exposure, 101 x 4 x 4 frames\n",
    "# Diffraction starts from frame 505\n",
    "scan_num = 250\n",
    "pupil = (1100, 1270,  860, 1070)\n",
    "\n",
    "h5_dir = os.path.join(dir_path, f'scan_frames/Scan_{scan_num:d}')\n",
    "h5_files = sorted([os.path.join(h5_dir, path) for path in os.listdir(h5_dir)\n",
    "                   if path.endswith(('LambdaFar.nxs', '.h5'))])\n",
    "data_dict[scan_num] = cbc.CrystData(cbc.CXIStore(h5_files, 'r'), crop)"
   ]
  },
  {
   "cell_type": "code",
   "execution_count": null,
   "metadata": {},
   "outputs": [],
   "source": [
    "data_dict[scan_num] = data_dict[scan_num].load(idxs=np.arange(101), processes=8)\n",
    "data_dict[scan_num] = data_dict[scan_num].update_mask(method='range-bad', vmax=10000000)\n",
    "data_dict[scan_num] = data_dict[scan_num].update_whitefield('mean')"
   ]
  },
  {
   "cell_type": "code",
   "execution_count": null,
   "metadata": {},
   "outputs": [],
   "source": [
    "output_file = cbc.CXIStore(f'results/scan_{scan_num:d}_whitefield.h5', mode='w')\n",
    "data_dict[scan_num] = data_dict[scan_num].update_output_file(output_file)\n",
    "data_dict[scan_num].save(mode='overwrite')"
   ]
  },
  {
   "cell_type": "code",
   "execution_count": null,
   "metadata": {},
   "outputs": [],
   "source": [
    "scan_num = 250\n",
    "\n",
    "file = cbc.CXIStore(f'results/scan_{scan_num:d}_whitefield.h5')\n",
    "data_dict[scan_num] = cbc.CrystData(file, transform=None)\n",
    "data_dict[scan_num] = data_dict[scan_num].load('whitefield')"
   ]
  },
  {
   "cell_type": "code",
   "execution_count": null,
   "metadata": {},
   "outputs": [],
   "source": [
    "# Lysozyme crystal, 2s exposure, 721 frames, full rotation tilt series\n",
    "scan_num = 232\n",
    "\n",
    "h5_dir = os.path.join(dir_path, f'scan_frames/Scan_{scan_num:d}')\n",
    "h5_files = sorted([os.path.join(h5_dir, path) for path in os.listdir(h5_dir)\n",
    "                   if path.endswith(('LambdaFar.nxs', '.h5'))])\n",
    "data_dict[scan_num] = cbc.CrystData(cbc.CXIStore(h5_files, 'r'), crop)"
   ]
  },
  {
   "cell_type": "code",
   "execution_count": null,
   "metadata": {},
   "outputs": [],
   "source": [
    "scan_num = 232\n",
    "\n",
    "data_dict[scan_num] = data_dict[scan_num].clear().load(idxs=np.arange(100), processes=12)\n",
    "data_dict[scan_num] = data_dict[scan_num].update_mask(method='range-bad', vmax=10000000)\n",
    "data_dict[scan_num] = data_dict[scan_num].mask_pupil(scan_setup, padding=60)\n",
    "data_dict[scan_num] = data_dict[scan_num].import_whitefield(data_dict[250].whitefield)\n",
    "data_dict[scan_num] = data_dict[scan_num].blur_pupil(scan_setup, padding=80, blur=20)"
   ]
  },
  {
   "cell_type": "code",
   "execution_count": null,
   "metadata": {},
   "outputs": [],
   "source": [
    "%matplotlib widget\n",
    "idx = 4\n",
    "\n",
    "fig, ax = plt.subplots(1, 2, figsize=(8, 4))\n",
    "ax[0].imshow(data_dict[scan_num].background[idx], vmax=50)\n",
    "ax[1].imshow(data_dict[scan_num].cor_data[idx], vmin=0.5, vmax=5)\n",
    "plt.tight_layout()\n",
    "plt.show()"
   ]
  },
  {
   "cell_type": "code",
   "execution_count": null,
   "metadata": {},
   "outputs": [],
   "source": [
    "scan_num = 232\n",
    "\n",
    "det_obj = data_dict[scan_num].lsd_detector()\n",
    "det_obj = det_obj.generate_pattern(vmin=0.5, vmax=5.0, size=(1, 3, 3))\n",
    "det_obj = det_obj.update_lsd(quant=2.0e-2, ang_th=45.0)"
   ]
  },
  {
   "cell_type": "code",
   "execution_count": null,
   "metadata": {},
   "outputs": [],
   "source": [
    "%time det_res = det_obj.detect(cutoff=60.0, filter_threshold=0.1, group_threshold=0.5, \\\n",
    "                               dilation=0.5)"
   ]
  },
  {
   "cell_type": "code",
   "execution_count": null,
   "metadata": {},
   "outputs": [],
   "source": [
    "%time det_res = det_res.draw_streaks()"
   ]
  },
  {
   "cell_type": "code",
   "execution_count": null,
   "metadata": {},
   "outputs": [],
   "source": [
    "%time det_res = det_res.draw_background()"
   ]
  },
  {
   "cell_type": "code",
   "execution_count": null,
   "metadata": {},
   "outputs": [],
   "source": [
    "# %time det_res = det_res.update_pattern()"
   ]
  },
  {
   "cell_type": "code",
   "execution_count": null,
   "metadata": {},
   "outputs": [],
   "source": [
    "frame_idx = 80\n",
    "\n",
    "fig, ax = plt.subplots(figsize=(6, 6))\n",
    "# ax.imshow(det_obj.pattern[frame_idx], vmin=0.0, vmax=1.0, cmap='gray_r')\n",
    "ax.imshow(det_res.data[frame_idx], vmin=0.5, vmax=5.0, cmap='gray_r')\n",
    "for line in det_res.streaks[frame_idx].to_numpy():\n",
    "    ax.plot(line[:4:2], line[1:4:2], c='r', alpha=0.6)\n",
    "ax.set_xlim(0, det_obj.data.shape[2])\n",
    "ax.set_ylim(det_obj.data.shape[1], 0)\n",
    "plt.tight_layout()\n",
    "plt.show()"
   ]
  },
  {
   "cell_type": "code",
   "execution_count": null,
   "metadata": {},
   "outputs": [],
   "source": [
    "df = det_res.export_table(concatenate=True)\n",
    "# df.to_hdf(f'results/scan_232_test.h5', 'data')"
   ]
  },
  {
   "cell_type": "code",
   "execution_count": null,
   "metadata": {},
   "outputs": [],
   "source": [
    "scan_num = 250\n",
    "\n",
    "file = cbc.CXIStore(f'results/scan_{scan_num:d}_whitefield.h5')\n",
    "data_dict[scan_num] = cbc.CrystData(file, transform=None)\n",
    "data_dict[scan_num] = data_dict[scan_num].load('whitefield', processes=2)"
   ]
  },
  {
   "cell_type": "code",
   "execution_count": null,
   "metadata": {},
   "outputs": [],
   "source": [
    "scan_num = 232\n",
    "data = cbc.converter_petra(dir_path, scan_num, transform=crop,\n",
    "                           idxs=[])\n",
    "\n",
    "tables = []\n",
    "for idxs in tqdm(np.array_split(np.arange(721), 10), total=10, desc=f'Processing scan {scan_num:d}'):\n",
    "    data = data.clear().load(idxs=idxs, processes=12)\n",
    "    data = data.update_mask(method='range-bad', vmax=10000000)\n",
    "    data = data.mask_pupil(scan_setup, padding=60)\n",
    "    data = data.import_whitefield(data_dict[250].whitefield)\n",
    "    data = data.blur_pupil(scan_setup, padding=80, blur=20)\n",
    "    det_obj = data.get_detector()\n",
    "    det_obj = det_obj.generate_streak_data(vmin=0.5, vmax=5., size=(1, 3, 3))\n",
    "    det_obj = det_obj.update_lsd(quant=2.0e-2)\n",
    "    det_res = det_obj.detect(cutoff=70.0, filter_threshold=32.5, group_threshold=0.7)\n",
    "    det_res = det_res.generate_bgd_mask()\n",
    "    det_res = det_res.update_streak_data()\n",
    "    tables.append(det_res.export_table(concatenate=True))"
   ]
  },
  {
   "cell_type": "code",
   "execution_count": null,
   "metadata": {},
   "outputs": [],
   "source": [
    "table = pd.concat(tables)\n",
    "table.to_hdf('results/scan_232_indexing.h5', 'data')"
   ]
  },
  {
   "cell_type": "markdown",
   "metadata": {},
   "source": [
    "# Streak detection, May 2022"
   ]
  },
  {
   "cell_type": "code",
   "execution_count": null,
   "metadata": {},
   "outputs": [],
   "source": [
    "dir_path = '/asap3/petra3/gpfs/p11/2022/data/11012881/raw'\n",
    "crop = cbc.Crop(roi=(800, 3900, 800, 3600))\n",
    "scan_setup = cbc.ScanSetup.import_ini('results/exp_geom_206.ini')\n",
    "whitefield = crop.forward(np.load('results/scan_206_whitefield.npy'))\n",
    "data_dict = {}"
   ]
  },
  {
   "cell_type": "code",
   "execution_count": null,
   "metadata": {},
   "outputs": [],
   "source": [
    "scan_num = 173\n",
    "\n",
    "data_dict[scan_num] = cbc.converter_petra(dir_path, scan_num,\n",
    "                                          idxs=[])\n",
    "data_dict[scan_num] = data_dict[scan_num].load(processes=12)\n",
    "data_dict[scan_num] = data_dict[scan_num].update_mask(method='range-bad', vmax=10000000)"
   ]
  },
  {
   "cell_type": "code",
   "execution_count": null,
   "metadata": {},
   "outputs": [],
   "source": [
    "# Lysozyme crystal, 0.5s exposure, 18000 frames, full rotation tilt series\n",
    "scan_num = 207\n",
    "\n",
    "data_dict[scan_num] = cbc.converter_petra(dir_path, scan_num, transform=crop, idxs=[])"
   ]
  },
  {
   "cell_type": "code",
   "execution_count": null,
   "metadata": {},
   "outputs": [],
   "source": [
    "whitefield = np.load(f'results/scan_{scan_num:d}_whitefield.npy')"
   ]
  },
  {
   "cell_type": "code",
   "execution_count": null,
   "metadata": {},
   "outputs": [],
   "source": [
    "data_dict[scan_num].input_file.indices()"
   ]
  },
  {
   "cell_type": "code",
   "execution_count": null,
   "metadata": {},
   "outputs": [],
   "source": [
    "idxs = np.array_split(data_dict[scan_num].input_file.indices(), 100)[99]"
   ]
  },
  {
   "cell_type": "code",
   "execution_count": null,
   "metadata": {},
   "outputs": [],
   "source": [
    "scan_num = 207\n",
    "\n",
    "data_dict[scan_num] = data_dict[scan_num].clear().load(idxs=idxs, processes=16)\n",
    "data_dict[scan_num] = data_dict[scan_num].update_mask(method='range-bad', vmax=40)\n",
    "data_dict[scan_num] = data_dict[scan_num].mask_pupil(scan_setup, padding=60)\n",
    "data_dict[scan_num] = data_dict[scan_num].import_whitefield(data_dict[scan_num].transform.forward(whitefield))\n",
    "data_dict[scan_num] = data_dict[scan_num].blur_pupil(scan_setup, padding=80, blur=20)"
   ]
  },
  {
   "cell_type": "code",
   "execution_count": null,
   "metadata": {},
   "outputs": [],
   "source": [
    "%matplotlib widget\n",
    "idx = 104\n",
    "\n",
    "fig, ax = plt.subplots(1, 1, figsize=(8, 8))\n",
    "ax.imshow(data_dict[scan_num].cor_data[idx], vmax=3)\n",
    "plt.tight_layout()\n",
    "plt.show()"
   ]
  },
  {
   "cell_type": "code",
   "execution_count": null,
   "metadata": {},
   "outputs": [],
   "source": [
    "det_obj = data_dict[scan_num].get_detector()\n",
    "det_obj = det_obj.generate_streak_data(vmin=0.3, vmax=2.0, size=(1, 3, 3))\n",
    "det_obj = det_obj.update_lsd(quant=1.8e-2)"
   ]
  },
  {
   "cell_type": "code",
   "execution_count": null,
   "metadata": {},
   "outputs": [],
   "source": [
    "%time det_res = det_obj.detect(cutoff=70.0, filter_threshold=6.0, group_threshold=0.4)"
   ]
  },
  {
   "cell_type": "code",
   "execution_count": null,
   "metadata": {},
   "outputs": [],
   "source": [
    "%time det_res = det_res.generate_bgd_mask()"
   ]
  },
  {
   "cell_type": "code",
   "execution_count": null,
   "metadata": {},
   "outputs": [],
   "source": [
    "%time det_res = det_res.update_streak_data()"
   ]
  },
  {
   "cell_type": "code",
   "execution_count": null,
   "metadata": {},
   "outputs": [],
   "source": [
    "frame_idx = 0\n",
    "\n",
    "fig, ax = plt.subplots(figsize=(6, 6))\n",
    "# ax.imshow(det_res.data[frame_idx], vmin=0.2, vmax=2.0, cmap='gray_r')\n",
    "ax.imshow(det_obj.streak_data[frame_idx], vmax=1.0, cmap='gray_r')\n",
    "# for line in det_res.streaks[det_res.frames[frame_idx]].to_numpy():\n",
    "#     ax.plot(line[:4:2], line[1:4:2], c='r', alpha=0.4)\n",
    "ax.set_xlim(0, det_obj.data.shape[2])\n",
    "ax.set_ylim(det_obj.data.shape[1], 0)\n",
    "plt.tight_layout()\n",
    "plt.show()"
   ]
  },
  {
   "cell_type": "code",
   "execution_count": null,
   "metadata": {},
   "outputs": [],
   "source": [
    "scan_setup = cbc.ScanSetup.import_ini('results/exp_geom_206.ini')\n",
    "streaks = cbc.ScanStreaks.import_hdf('results/scan_206_indexing.h5', 'data', scan_setup)\n",
    "data = cbc.CrystData(cbc.CXIStore('results/scan_206_data.h5'))"
   ]
  },
  {
   "cell_type": "code",
   "execution_count": null,
   "metadata": {},
   "outputs": [],
   "source": [
    "frame_idx = 460\n",
    "\n",
    "pattern = streaks.pattern_image(frame_idx)\n",
    "data = data.clear().load(idxs=np.array([160]))"
   ]
  },
  {
   "cell_type": "code",
   "execution_count": null,
   "metadata": {},
   "outputs": [],
   "source": [
    "det_obj = data.get_detector()\n",
    "det_obj = det_obj.generate_streak_data(vmin=0.3, vmax=2.0, size=(1, 3, 3))\n",
    "det_obj = det_obj.update_lsd(quant=1.8e-2)"
   ]
  },
  {
   "cell_type": "code",
   "execution_count": null,
   "metadata": {},
   "outputs": [],
   "source": [
    "%time det_res = det_obj.detect(cutoff=70.0, filter_threshold=6.0, group_threshold=0.4)\n",
    "%time det_res = det_res.generate_bgd_mask()\n",
    "%time det_res = det_res.update_streak_data()"
   ]
  },
  {
   "cell_type": "code",
   "execution_count": null,
   "metadata": {},
   "outputs": [],
   "source": [
    "%matplotlib widget\n",
    "fig, axes = plt.subplots(1, 2, figsize=(8, 4))\n",
    "axes[0].imshow(pattern, vmax=0.3, cmap='gray_r')\n",
    "axes[1].imshow(data['cor_data'][0], vmax=2.0, cmap='gray_r')\n",
    "for line in det_res.streaks[frame_idx].to_numpy():\n",
    "    axes[1].plot(line[:4:2], line[1:4:2], c='r', alpha=0.4)\n",
    "plt.tight_layout()\n",
    "plt.show()"
   ]
  },
  {
   "cell_type": "markdown",
   "metadata": {},
   "source": [
    "# CBC indexing"
   ]
  },
  {
   "cell_type": "code",
   "execution_count": null,
   "metadata": {},
   "outputs": [],
   "source": [
    "scan_setup = cbc.ScanSetup.import_ini('results/exp_geom_232.ini')\n",
    "table = cbc.CBCTable.import_hdf('results/scan_232_detected.h5', 'data', scan_setup)\n",
    "crop = cbc.Crop(roi=(1100, 3260, 1040, 3108))\n",
    "basis = cbc.Basis.import_ini('results/scan_232_basis.ini')\n",
    "samples = cbc.ScanSamples.import_dataframe(pd.read_hdf('results/scan_232_samples_trial_4.h5', 'data'))"
   ]
  },
  {
   "cell_type": "code",
   "execution_count": null,
   "metadata": {},
   "outputs": [],
   "source": [
    "dataframes = []\n",
    "for frame, sample in tqdm(samples.items(), total=len(samples)):\n",
    "    problem = table.refine_sample(frame, (0.0, 0.0, 0.0), basis, sample, 0.5, 4.0)\n",
    "    dataframes.append(problem.index_frame(problem.x0, frame, num_threads=64))"
   ]
  },
  {
   "cell_type": "code",
   "execution_count": null,
   "metadata": {},
   "outputs": [],
   "source": [
    "table_idx = pd.concat(dataframes)\n",
    "table_idx.to_hdf('results/scan_232_indexed.h5', 'data')"
   ]
  },
  {
   "cell_type": "code",
   "execution_count": null,
   "metadata": {},
   "outputs": [],
   "source": [
    "%matplotlib widget\n",
    "fig, ax = plt.subplots(figsize=(8, 8))\n",
    "ax.imshow(table.pattern_image(62))\n",
    "plt.show()"
   ]
  },
  {
   "cell_type": "code",
   "execution_count": null,
   "metadata": {},
   "outputs": [],
   "source": [
    "qsize = (512, 512, 512)\n",
    "q_bounds = (0.25, 0.25, 0.25)\n",
    "\n",
    "qx_arr = np.linspace(-q_bounds[0], q_bounds[0], qsize[0], endpoint=True)\n",
    "qy_arr = np.linspace(-q_bounds[1], q_bounds[1], qsize[1], endpoint=True)\n",
    "qz_arr = np.linspace(-q_bounds[2], q_bounds[2], qsize[2], endpoint=True)\n",
    "qmap = table.create_qmap(samples, qx_arr, qy_arr, qz_arr)"
   ]
  },
  {
   "cell_type": "code",
   "execution_count": null,
   "metadata": {},
   "outputs": [],
   "source": [
    "%matplotlib widget\n",
    "fig, ax = plt.subplots(figsize=(6, 6))\n",
    "ax.imshow(qmap.val[:, qmap.shape[1] // 2 - 5:qmap.shape[1] // 2 + 5].mean(axis=1), vmax=10.0, cmap='gray_r')\n",
    "plt.tight_layout()\n",
    "plt.show()"
   ]
  },
  {
   "cell_type": "code",
   "execution_count": null,
   "metadata": {},
   "outputs": [],
   "source": [
    "rmap = qmap.fft(num_threads=64)"
   ]
  },
  {
   "cell_type": "code",
   "execution_count": null,
   "metadata": {},
   "outputs": [],
   "source": [
    "if sys.modules.get('dev'): # Maybe sys.modules is better?\n",
    "    dev = sys.modules.get('dev')\n",
    "    dev = reload(dev)\n",
    "else:\n",
    "    import dev\n",
    "print(dir(dev))"
   ]
  },
  {
   "cell_type": "code",
   "execution_count": null,
   "metadata": {},
   "outputs": [],
   "source": [
    "%time wdw = dev.filter_direction(rmap.grid, [0.0, 1.0, 0.0], 5.0, 1.0, num_threads=64)"
   ]
  },
  {
   "cell_type": "code",
   "execution_count": null,
   "metadata": {},
   "outputs": [],
   "source": [
    "%time rmap = qmap.fft(num_threads=64)\n",
    "%time rmap = rmap.gaussian_blur(1.0, num_threads=64)"
   ]
  },
  {
   "cell_type": "code",
   "execution_count": null,
   "metadata": {},
   "outputs": [],
   "source": [
    "%time rmap = rmap.white_tophat(np.ones((9, 9, 9)), num_threads=64).clip(0.0, np.inf)"
   ]
  },
  {
   "cell_type": "code",
   "execution_count": null,
   "metadata": {},
   "outputs": [],
   "source": [
    "%time rmap.val /= np.max(rmap.val)"
   ]
  },
  {
   "cell_type": "code",
   "execution_count": null,
   "metadata": {},
   "outputs": [],
   "source": [
    "peaks = rmap.find_peaks(0.1)\n",
    "basis = rmap.find_peaks(0.1, reduce=True)"
   ]
  },
  {
   "cell_type": "code",
   "execution_count": null,
   "metadata": {},
   "outputs": [],
   "source": [
    "fig = go.Figure()\n",
    "\n",
    "fig.add_trace(go.Scatter3d(x=peaks[:, 1], y=peaks[:, 0], z=peaks[:, 2], mode='markers',\n",
    "                           marker=dict(size=6)))\n",
    "fig.add_trace(go.Scatter3d(x=basis[:, 1], y=basis[:, 0], z=basis[:, 2], mode='markers',\n",
    "                           marker=dict(size=8)))\n",
    "\n",
    "fig.update_layout(width=800, height=800, margin=dict(l=20, r=20, b=20, t=20))\n",
    "fig.show()"
   ]
  },
  {
   "cell_type": "code",
   "execution_count": null,
   "metadata": {},
   "outputs": [],
   "source": [
    "rfit = rmap[::8, ::8, ::8]"
   ]
  },
  {
   "cell_type": "code",
   "execution_count": null,
   "metadata": {},
   "outputs": [],
   "source": [
    "x0 = basis.ravel()\n",
    "bounds = np.sort(np.stack((0.9 * x0, 1.1 * x0), axis=1), axis=1)\n",
    "res = minimize(rfit.criterion, x0, jac=True, method='L-BFGS-B', bounds=bounds,\n",
    "               args=(100.0, 5.0, 1e-12, 64))"
   ]
  },
  {
   "cell_type": "code",
   "execution_count": null,
   "metadata": {},
   "outputs": [],
   "source": [
    "# Lattice basis in meters\n",
    "basis * scan_setup.wavelength"
   ]
  },
  {
   "cell_type": "code",
   "execution_count": null,
   "metadata": {},
   "outputs": [],
   "source": [
    "fig = go.Figure()\n",
    "\n",
    "fig.add_trace(go.Volume(x=rx_fit.flatten(),\n",
    "                        y=ry_fit.flatten(),\n",
    "                        z=rz_fit.flatten(),\n",
    "                        value=r_fit.flatten(),\n",
    "                        isomin=1e-5, isomax=1e-3,\n",
    "                        opacity=0.1, # needs to be small to see through all surfaces\n",
    "                        surface_count=20))\n",
    "# fig.add_trace(go.Scatter3d(x=axes[:, 1], y=axes[:, 0], z=axes[:, 2], mode='markers'))\n",
    "fig.add_trace(go.Scatter3d(x=res.x[1::3], y=res.x[::3], z=res.x[2::3], mode='markers'))\n",
    "\n",
    "fig.update_layout(width=800, height=800, margin=dict(l=20, r=20, b=20, t=20))\n",
    "fig.show()"
   ]
  },
  {
   "cell_type": "markdown",
   "metadata": {},
   "source": [
    "# CBC Model"
   ]
  },
  {
   "cell_type": "code",
   "execution_count": null,
   "metadata": {},
   "outputs": [],
   "source": [
    "scan_num = 232\n",
    "\n",
    "dir_path = '/asap3/petra3/gpfs/p11/2021/data/11010570/raw'\n",
    "log_path = os.path.join(dir_path, f'server_log/Scan_logs/Scan_{scan_num:d}.log')\n",
    "log_data = cbc.LogContainer().read_logs(log_path).read_translations()"
   ]
  },
  {
   "cell_type": "code",
   "execution_count": null,
   "metadata": {},
   "outputs": [],
   "source": [
    "scan_setup = cbc.ScanSetup.import_ini('results/exp_geom_232.ini')\n",
    "smp_pos = np.array([0.14343635, 0.16275142, 0.38192596])\n",
    "samples = log_data.generate_samples(smp_pos, scan_setup)\n",
    "# samples.to_dataframe().to_hdf('results/scan_232_samples_trial_3.h5', 'data')"
   ]
  },
  {
   "cell_type": "code",
   "execution_count": null,
   "metadata": {},
   "outputs": [],
   "source": [
    "scan_setup = cbc.ScanSetup.import_ini('results/exp_geom_232.ini')\n",
    "table = cbc.CBCTable.import_hdf('results/scan_232_detected.h5', 'data', scan_setup)\n",
    "crop = cbc.Crop(roi=(1100, 3260, 1040, 3108))\n",
    "basis = cbc.Basis.import_ini('results/scan_232_basis.ini')\n",
    "samples = cbc.ScanSamples.import_dataframe(pd.read_hdf('results/scan_232_samples_trial_4.h5', 'data'))"
   ]
  },
  {
   "cell_type": "code",
   "execution_count": null,
   "metadata": {},
   "outputs": [],
   "source": [
    "frame_idx = 0\n",
    "\n",
    "problem = table.refine_sample(frame_idx, (0.0, 0.0, 0.0), basis, samples[frame_idx], 0.3, 4.0, 0.0)"
   ]
  },
  {
   "cell_type": "code",
   "execution_count": null,
   "metadata": {},
   "outputs": [],
   "source": [
    "samples_reg = samples.regularise((5e0, 5e1))"
   ]
  },
  {
   "cell_type": "code",
   "execution_count": null,
   "metadata": {},
   "outputs": [],
   "source": [
    "scan_num = 232\n",
    "dir_path = '/asap3/petra3/gpfs/p11/2021/data/11010570/raw'\n",
    "h5_dir = os.path.join(dir_path, f'scan_frames/Scan_{scan_num:d}')\n",
    "h5_files = sorted([os.path.join(h5_dir, path) for path in os.listdir(h5_dir)\n",
    "                   if path.endswith(('LambdaFar.nxs', '.h5'))])\n",
    "data = cbc.CrystData(cbc.CXIStore(h5_files), transform=crop)\n",
    "\n",
    "wf_data = cbc.CrystData(cbc.CXIStore(f'results/scan_250_whitefield.h5')).load('whitefield')"
   ]
  },
  {
   "cell_type": "code",
   "execution_count": null,
   "metadata": {},
   "outputs": [],
   "source": [
    "tilts = np.array([sample.rotation.to_tilt() for sample in samples.values()])"
   ]
  },
  {
   "cell_type": "code",
   "execution_count": null,
   "metadata": {},
   "outputs": [],
   "source": [
    "%matplotlib widget\n",
    "fig, ax = plt.subplots(figsize=(8, 4))\n",
    "ax.plot(tilts[:, 0])\n",
    "ax.plot(tilts[:, 1])\n",
    "ax.plot(tilts[:, 2])\n",
    "plt.show()"
   ]
  },
  {
   "cell_type": "code",
   "execution_count": null,
   "metadata": {},
   "outputs": [],
   "source": [
    "%matplotlib widget\n",
    "fig, ax = plt.subplots(figsize=(8, 4))\n",
    "ax.plot(samples.get_positions(1))\n",
    "ax.plot(samples_reg.get_positions(1))\n",
    "ax.grid(True)\n",
    "# ax.plot(samples.get_positions(1) / samples.get_positions(1)[0])\n",
    "# ax.plot(samples.get_positions(2) / samples.get_positions(2)[0])\n",
    "\n",
    "plt.show()"
   ]
  },
  {
   "cell_type": "code",
   "execution_count": null,
   "metadata": {},
   "outputs": [],
   "source": [
    "problem = table.refine_sample(frame_idx, (2e-2, 2e-3, 0.0), basis, samples[frame_idx],\n",
    "                              0.3, 3.0, 0.5)"
   ]
  },
  {
   "cell_type": "code",
   "execution_count": null,
   "metadata": {},
   "outputs": [],
   "source": [
    "def criterion(x, problem):\n",
    "    return problem.fitness(x)[0]\n",
    "\n",
    "res = differential_evolution(criterion, bounds=np.stack(problem.get_bounds()).T,\n",
    "                             maxiter=100, popsize=25, workers=64, updating='deferred',\n",
    "                             args=(problem,))"
   ]
  },
  {
   "cell_type": "code",
   "execution_count": null,
   "metadata": {},
   "outputs": [],
   "source": [
    "uda = pygmo.de(gen=100)\n",
    "algo = pygmo.algorithm(uda)\n",
    "prob = pygmo.problem(problem)\n",
    "pops = [pygmo.population(size=30, prob=prob, b=pygmo.bfe()) for _ in range(32)]\n",
    "archi = pygmo.archipelago()\n",
    "for pop in pops:\n",
    "    archi.push_back(algo=algo, pop=pop)"
   ]
  },
  {
   "cell_type": "code",
   "execution_count": null,
   "metadata": {},
   "outputs": [],
   "source": [
    "archi.evolve()\n",
    "%time archi.wait()\n",
    "x = archi.get_champions_x()[np.argmin(archi.get_champions_f())]"
   ]
  },
  {
   "cell_type": "markdown",
   "metadata": {},
   "source": [
    "# CBC Geometry calibration"
   ]
  },
  {
   "cell_type": "code",
   "execution_count": null,
   "metadata": {},
   "outputs": [],
   "source": [
    "# Experimental geometry\n",
    "\n",
    "log_prt = cbc.LogProtocol.import_default()\n",
    "\n",
    "foc_z = -0.012028122 # From PXST\n",
    "dir_path = '/asap3/petra3/gpfs/p11/2021/data/11010570/raw'\n",
    "h5_dir = os.path.join(dir_path, 'scan_frames/Scan_253')\n",
    "log_path = os.path.join(dir_path, 'server_log/Scan_logs/Scan_253.log')\n",
    "h5_files = sorted([os.path.join(h5_dir, path) for path in os.listdir(h5_dir)\n",
    "                   if path.endswith(('LambdaFar.nxs', '.h5')) and not path.endswith('master.h5')])\n",
    "h5_master = [os.path.join(h5_dir, path) for path in os.listdir(h5_dir)\n",
    "             if path.endswith('master.h5')][0]\n",
    "\n",
    "defocus = log_prt.load_attributes(log_path)['Session logged attributes']['z_sample'] - foc_z\n",
    "file = cbc.CXIStore(h5_master)\n",
    "with file:\n",
    "    x_pixel_size = file.load_attribute('x_pixel_size').item()\n",
    "    y_pixel_size = file.load_attribute('y_pixel_size').item()\n",
    "wl = 2.0664032162696132e-11 # 60 keV"
   ]
  },
  {
   "cell_type": "code",
   "execution_count": null,
   "metadata": {},
   "outputs": [],
   "source": [
    "pupil = np.array([2210, 2345, 1957, 2090])\n",
    "pupil_2 = np.array([2214, 2400, 1974, 2155])\n",
    "db = np.array([2171, 1913])\n",
    "db_2 = np.array([2159, 1913])"
   ]
  },
  {
   "cell_type": "code",
   "execution_count": null,
   "metadata": {},
   "outputs": [],
   "source": [
    "det_dist_2 = 0.15 / (1.0 - 0.718) # sample-to-detector distance for scan 254\n",
    "det_dist = det_dist_2 - 0.15 # sample-to-detector distance for scan 253"
   ]
  },
  {
   "cell_type": "code",
   "execution_count": null,
   "metadata": {},
   "outputs": [],
   "source": [
    "center = db + np.mean(((pupil - np.repeat(db, 2)) * defocus / det_dist).reshape((2, 2)), axis=1)\n",
    "center_2 = db_2 + np.mean(((pupil_2 - np.repeat(db_2, 2)) * defocus / det_dist_2).reshape((2, 2)), axis=1)\n",
    "tilt_shift = np.arange(4362)**2 / 2159**2 * 12.0 # Y_253 = Y_254 + tilt_shift[Y_254]\n",
    "center[0], center_2[0] + tilt_shift[int(center_2[0])]"
   ]
  },
  {
   "cell_type": "code",
   "execution_count": null,
   "metadata": {},
   "outputs": [],
   "source": [
    "delta_x = (pupil[2] - db[1]) * x_pixel_size\n",
    "delta_y = (pupil[0] - db[0]) * y_pixel_size\n",
    "phis = np.arctan2(delta_y, delta_x)\n",
    "thetas = np.arctan(np.sqrt(delta_x**2 + delta_y**2) / det_dist)\n",
    "kin_min = np.stack((np.sin(thetas) * np.cos(phis), np.sin(thetas) * np.sin(phis), np.cos(thetas)))"
   ]
  },
  {
   "cell_type": "code",
   "execution_count": null,
   "metadata": {},
   "outputs": [],
   "source": [
    "delta_x = (pupil[3] - db[1]) * x_pixel_size\n",
    "delta_y = (pupil[1] - db[0]) * y_pixel_size\n",
    "phis = np.arctan2(delta_y, delta_x)\n",
    "thetas = np.arctan(np.sqrt(delta_x**2 + delta_y**2) / det_dist)\n",
    "kin_max = np.stack((np.sin(thetas) * np.cos(phis), np.sin(thetas) * np.sin(phis), np.cos(thetas)))"
   ]
  },
  {
   "cell_type": "code",
   "execution_count": null,
   "metadata": {},
   "outputs": [],
   "source": [
    "smp_pos = np.array([center[1] * x_pixel_size,\n",
    "                    center[0] * y_pixel_size, det_dist])\n",
    "foc_pos = np.array([db[1] * x_pixel_size, db[0] * y_pixel_size, det_dist + defocus])\n",
    "scan_setup = cbc.ScanSetup(smp_pos=smp_pos, foc_pos=foc_pos, rot_axis=np.array([0.0, 1.0, 0.0]),\n",
    "                           kin_min=kin_min, kin_max=kin_max, wavelength=wl, x_pixel_size=x_pixel_size,\n",
    "                           y_pixel_size=y_pixel_size)"
   ]
  },
  {
   "cell_type": "code",
   "execution_count": null,
   "metadata": {},
   "outputs": [],
   "source": [
    "with open('results/exp_geom_248_253.ini', 'w') as ini_file:\n",
    "    scan_setup.export_ini().write(ini_file)"
   ]
  },
  {
   "cell_type": "code",
   "execution_count": null,
   "metadata": {},
   "outputs": [],
   "source": [
    "smp_pos_2 = np.array([center_2[1] * x_pixel_size,\n",
    "                      center_2[0] * y_pixel_size, det_dist_2])\n",
    "foc_pos_2 = np.array([db_2[1] * x_pixel_size, db_2[0] * y_pixel_size, det_dist_2 + defocus])\n",
    "scan_setup_2 = cbc.ScanSetup(smp_pos=smp_pos_2, foc_pos=foc_pos_2, rot_axis=np.array([0.0, 1.0, 0.0]),\n",
    "                             wavelength=wl, x_pixel_size=x_pixel_size, y_pixel_size=y_pixel_size)"
   ]
  },
  {
   "cell_type": "code",
   "execution_count": null,
   "metadata": {},
   "outputs": [],
   "source": [
    "with h5py.File('results/scan_250_proc.h5', 'r') as cxi_file:\n",
    "    whitefield = cxi_loader.read_cxi('whitefield', cxi_file)\n",
    "    mask = cxi_loader.read_cxi('mask', cxi_file)[0]"
   ]
  },
  {
   "cell_type": "code",
   "execution_count": null,
   "metadata": {},
   "outputs": [],
   "source": [
    "scan_num = 224 # Det dist = 20 cm\n",
    "data = cbc.converter_petra(dir_path, scan_num, mask=mask,\n",
    "                           pupil=(2200, 2370, 1900, 2110),\n",
    "                           roi=(1100, 3260, 1040, 3108),\n",
    "                           whitefield=whitefield)"
   ]
  },
  {
   "cell_type": "code",
   "execution_count": null,
   "metadata": {},
   "outputs": [],
   "source": [
    "scan_num = 225 # Det dist = 40 cm\n",
    "data = cbc.converter_petra(dir_path, scan_num, mask=mask,\n",
    "                           pupil=(2200, 2370, 1900, 2110),\n",
    "                           roi=(1100, 3260, 1040, 3108),\n",
    "                           whitefield=whitefield)"
   ]
  },
  {
   "cell_type": "code",
   "execution_count": null,
   "metadata": {},
   "outputs": [],
   "source": [
    "scan_num = 253 # Det dist = 40 cm\n",
    "\n",
    "data = cbc.converter_petra(dir_path, scan_num,\n",
    "                           pupil=(2200, 2370, 1900, 2110),\n",
    "                           roi=(1100, 3260, 1040, 3108))\n",
    "data.data = np.sum(data.data, axis=0, keepdims=True)\n",
    "data.good_frames = data.good_frames[[0]]\n",
    "data = data.import_mask(mask, update='multiply')\n",
    "data = data.import_whitefield(3.0 * whitefield)"
   ]
  },
  {
   "cell_type": "code",
   "execution_count": null,
   "metadata": {},
   "outputs": [],
   "source": [
    "det_obj = cbc.StreakDetector.import_data(data, 0.2, 3., (1, 3, 3))\n",
    "det_obj = det_obj.update_lsd(scale=0.9, sigma_scale=0.9, log_eps=0, ang_th=60, density_th=0.5, quant=1.5e-2)\n",
    "det_obj = det_obj.update_mask(dilation=8)\n",
    "det_obj = det_obj.update_streak_data(iterations=4)"
   ]
  },
  {
   "cell_type": "code",
   "execution_count": null,
   "metadata": {},
   "outputs": [],
   "source": [
    "scan_num = 254 # Det dist = 55 cm\n",
    "whitefield_2 = np.zeros(whitefield.shape, dtype=np.float64)\n",
    "whitefield_2[29:, 41:] = whitefield[:-29, :-41]\n",
    "mask_2 = np.ones(mask.shape, dtype=bool)\n",
    "mask_2[29:, 41:] = mask[:-29, :-41]\n",
    "\n",
    "data_2 = cbc.converter_petra(dir_path, scan_num,\n",
    "                             pupil=(2140, 2450, 1900, 2200),\n",
    "                             roi=(700, 3660, 640, 3508))\n",
    "\n",
    "data_2.data = np.sum(data_2.data, axis=0, keepdims=True)\n",
    "data_2.good_frames = data_2.good_frames[[0]]\n",
    "data_2 = data_2.import_mask(mask * mask_2, update='multiply')\n",
    "data_2 = data_2.import_whitefield(3.0 * whitefield)"
   ]
  },
  {
   "cell_type": "code",
   "execution_count": null,
   "metadata": {},
   "outputs": [],
   "source": [
    "det_obj_2 = cbc.StreakDetector.import_data(data_2, 0.2, 3., (1, 3, 3))\n",
    "det_obj_2 = det_obj_2.update_lsd(quant=2.8e-2)\n",
    "det_obj_2 = det_obj_2.update_mask(dilation=8)\n",
    "det_obj_2 = det_obj_2.update_streak_data(iterations=4)"
   ]
  },
  {
   "cell_type": "code",
   "execution_count": null,
   "metadata": {},
   "outputs": [],
   "source": [
    "%matplotlib notebook\n",
    "frame_idx = 0\n",
    "scale = 0.718\n",
    "\n",
    "\n",
    "fig, ax = plt.subplots(1, 1, figsize=(7, 7))\n",
    "ax.imshow(data.get('cor_data')[frame_idx], vmin=0.2, vmax=3., cmap='gray_r')\n",
    "for line in det_obj.streaks[frame_idx]:\n",
    "    ln = ax.plot(line[:4:2], line[1:4:2], line[4], c='r', alpha=0.6)[0]\n",
    "ln.set_label('Scan 253')\n",
    "for line in det_obj_2.streaks[frame_idx]:\n",
    "    ln = ax.plot((line[:4:2] + data_2.roi[2] - center[1]) * scale + center[1] - data.roi[2],\n",
    "                 (line[1:4:2] + data_2.roi[0] - center[0]) * scale + center[0] - data.roi[0]\n",
    "                 + tilt_shift[line[1:4:2].astype(int)], line[4], c='g', alpha=0.6)[0]\n",
    "ln.set_label('Scan 254, with a tilt')\n",
    "for line in det_obj_2.streaks[frame_idx]:\n",
    "    ln = ax.plot((line[:4:2] + data_2.roi[2] - center[1]) * scale + center[1] - data.roi[2],\n",
    "                 (line[1:4:2] + data_2.roi[0] - center[0]) * scale + center[0] - data.roi[0],\n",
    "                 line[4], c='b', alpha=0.3)[0]\n",
    "ln.set_label('Scan 254, no tilt')\n",
    "ax.scatter(1913 - data.roi[2], 2159 + tilt_shift[2159] - data.roi[0], s=50, c='r')\n",
    "ax.set_xlim(0, data.roi[3] - data.roi[2])\n",
    "ax.set_ylim(data.roi[1] - data.roi[0], 0)\n",
    "ax.legend(fontsize=15)\n",
    "plt.tight_layout()\n",
    "plt.savefig('figures/scan_253_254.jpg', dpi=300)"
   ]
  },
  {
   "cell_type": "code",
   "execution_count": null,
   "metadata": {},
   "outputs": [],
   "source": [
    "%matplotlib notebook\n",
    "\n",
    "fig, ax = plt.subplots(1, 2, figsize=(9, 5))\n",
    "ax[0].imshow(data.data[2, 2140:2450, 1900:2200], vmax=500)\n",
    "ax[1].imshow(data_2.data[2, 2140:2450, 1900:2200], vmax=500)\n",
    "plt.show()\n",
    "\n",
    "smp_pos = [0.15 / (1.0 - 0.718)"
   ]
  },
  {
   "cell_type": "code",
   "execution_count": null,
   "metadata": {},
   "outputs": [],
   "source": [
    "%matplotlib notebook\n",
    "\n",
    "fig, ax = plt.subplots(1, 2, figsize=(10, 5))\n",
    "ax[0].imshow(data.data[0, 2210:2344, 1957:2090], vmax=300000)\n",
    "ax[1].imshow(data_2.data[0, 2214:2400, 1974:2155], vmax=150000)\n",
    "plt.show()"
   ]
  }
 ],
 "metadata": {
  "kernelspec": {
   "display_name": "cbc",
   "language": "python",
   "name": "cbc"
  },
  "language_info": {
   "codemirror_mode": {
    "name": "ipython",
    "version": 3
   },
   "file_extension": ".py",
   "mimetype": "text/x-python",
   "name": "python",
   "nbconvert_exporter": "python",
   "pygments_lexer": "ipython3",
   "version": "3.7.12"
  },
  "vscode": {
   "interpreter": {
    "hash": "58e19e77e3cf4a7b094d41617cea944c5bd8bc8d03c0a0435f5928aba99fc8c6"
   }
  }
 },
 "nbformat": 4,
 "nbformat_minor": 4
}
