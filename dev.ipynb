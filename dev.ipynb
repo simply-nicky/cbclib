{
 "cells": [
  {
   "cell_type": "code",
   "execution_count": null,
   "metadata": {},
   "outputs": [],
   "source": [
    "%load_ext cython\n",
    "import os\n",
    "os.environ['XLA_FLAGS'] = '--xla_force_host_platform_device_count=64'\n",
    "import cbclib as cbc\n",
    "import numpy as np\n",
    "import pandas as pd\n",
    "import pyximport\n",
    "from importlib import reload\n",
    "import sys\n",
    "import hdf5plugin\n",
    "import h5py\n",
    "import pygmo\n",
    "import matplotlib.animation as animation\n",
    "from tqdm.auto import tqdm\n",
    "from scipy import ndimage\n",
    "from scipy.optimize import minimize, differential_evolution\n",
    "from scipy.interpolate import interpn\n",
    "\n",
    "import plotly.graph_objects as go\n",
    "import matplotlib.pyplot as plt\n",
    "import matplotlib.colors as mcolors\n",
    "from mpl_toolkits.axes_grid1 import make_axes_locatable\n",
    "from matplotlib.widgets import Slider\n",
    "from pickle import load, dump\n",
    "\n",
    "pyximport.install(reload_support=True, build_in_temp=False,\n",
    "                  build_dir='.pyxbld')"
   ]
  },
  {
   "cell_type": "code",
   "execution_count": null,
   "metadata": {},
   "outputs": [],
   "source": [
    "if sys.modules.get('dev'): # Maybe sys.modules is better?\n",
    "    dev = sys.modules.get('dev')\n",
    "    dev = reload(dev)\n",
    "else:\n",
    "    import dev\n",
    "print(dir(dev))"
   ]
  },
  {
   "cell_type": "code",
   "execution_count": null,
   "metadata": {},
   "outputs": [],
   "source": [
    "basis = np.array([[-0.00093604, -0.00893389, -0.00049815],\n",
    "                  [0.00688718, -0.00039195, -0.00573877],\n",
    "                  [0.01180108, -0.00199115,  0.01430421]])\n",
    "kmin = np.array([0.00876745, 0.00437237, 0.99995201])\n",
    "kmax = np.array([0.03538482, 0.03246592, 0.99884627])\n",
    "hkl = np.array([[ -8,  18,   5],\n",
    "                [ 24,   4,   1],\n",
    "                [  6, -12,  -5],\n",
    "                [ -4,  -2,  -1],\n",
    "                [ 17,  15,   5],\n",
    "                [-19,  -3,  -3],\n",
    "                [  0,  -7,  -3],\n",
    "                [ 24,  -6,  -3],\n",
    "                [ 16,  20,   6],\n",
    "                [ -1,   9,   3]])\n",
    "hkl = np.tile(hkl, (10, 1))\n",
    "\n",
    "%time kin = dev.source_lines(hkl=hkl, basis=basis.ravel(), kmin=kmin, kmax=kmax)[0]\n",
    "%time kin2 = cbc.src.source_lines(hkl=hkl, basis=basis, kmin=kmin[:2], kmax=kmax[:2])[0]\n",
    "\n",
    "np.isclose(np.sort(kin, axis=1), np.sort(kin2, axis=1))"
   ]
  },
  {
   "cell_type": "code",
   "execution_count": null,
   "metadata": {},
   "outputs": [],
   "source": [
    "from scipy.optimize import approx_fprime\n",
    "\n",
    "f = lambda x: cbc.bin.calc_source_lines(hkl=hkl, basis=x.reshape((3, 3)), kin_min=kmin, kin_max=kmax)[0].ravel()\n",
    "grad = approx_fprime(basis, f, epsilon=1e-8).reshape(kin.shape + (9,))"
   ]
  },
  {
   "cell_type": "code",
   "execution_count": null,
   "metadata": {},
   "outputs": [],
   "source": [
    "np.sum(vec[..., None] * grad, axis=(0, 1, 2))"
   ]
  },
  {
   "cell_type": "code",
   "execution_count": null,
   "metadata": {},
   "outputs": [],
   "source": [
    "crop = cbc.Crop(roi=(1100, 3260, 1040, 3108))\n",
    "setup = cbc.ScanSetup.import_ini('results/Lysozyme_June_2021/exp_geom_232_ref_2.ini')\n",
    "\n",
    "scan_num = 232\n",
    "dir_path = '/asap3/petra3/gpfs/p11/2021/data/11010570/raw'\n",
    "h5_dir = os.path.join(dir_path, f'scan_frames/Scan_{scan_num:d}')\n",
    "h5_files = sorted([os.path.join(h5_dir, path) for path in os.listdir(h5_dir)\n",
    "                   if path.endswith(('LambdaFar.nxs', '.h5'))])\n",
    "data = cbc.CrystData(cbc.CXIStore(h5_files), transform=crop)\n",
    "\n",
    "wf_data = cbc.CrystData(cbc.CXIStore(f'results/Lysozyme_June_2021/scan_250_whitefield.h5'),\n",
    "                        transform=crop).load('whitefield')"
   ]
  },
  {
   "cell_type": "code",
   "execution_count": null,
   "metadata": {},
   "outputs": [],
   "source": [
    "idxs = np.arange(0, 300, 5)\n",
    "\n",
    "data = data.clear().load(idxs=idxs)"
   ]
  },
  {
   "cell_type": "code",
   "execution_count": null,
   "metadata": {},
   "outputs": [],
   "source": [
    "x0, y0 = crop.forward_points(x=setup.pupil_roi[2], y=setup.pupil_roi[0])\n",
    "x1, y1 = crop.forward_points(x=setup.pupil_roi[3], y=setup.pupil_roi[1])\n",
    "pad = 40\n",
    "roi = (int(y0) - pad, int(y1) + pad, int(x0) - pad, int(x1) + pad)"
   ]
  },
  {
   "cell_type": "code",
   "execution_count": null,
   "metadata": {},
   "outputs": [],
   "source": [
    "data = data.reset_mask()\n",
    "%time data = data.update_mask(method='range', vmax=10000000)\n",
    "%time data = data.update_whitefield(method='robust-mean')\n",
    "%time data = data.update_snr()\n",
    "%time data = data.import_mask(data.whitefield < 50.0, update='multiply')\n",
    "%time data = data.update_snr()"
   ]
  },
  {
   "cell_type": "code",
   "execution_count": null,
   "metadata": {},
   "outputs": [],
   "source": [
    "%matplotlib widget\n",
    "fig, ax = plt.subplots(figsize=(6, 6))\n",
    "ax.imshow(data.snr[1], vmin=0, vmax=5)\n",
    "fig.tight_layout()\n",
    "plt.show()"
   ]
  },
  {
   "cell_type": "code",
   "execution_count": null,
   "metadata": {},
   "outputs": [],
   "source": [
    "%time data = data.update_whitefields()\n",
    "%time data = data.update_snr()"
   ]
  },
  {
   "cell_type": "code",
   "execution_count": null,
   "metadata": {},
   "outputs": [],
   "source": [
    "det_obj = data.lsd_detector()\n",
    "det_obj = det_obj.generate_patterns(vmin=0.2, vmax=3.0, size=(1, 3, 3))\n",
    "# det_obj.patterns = cbc.bin.gaussian_filter(det_obj.patterns, sigma=(0.0, 2.0, 2.0), num_threads=64)"
   ]
  },
  {
   "cell_type": "code",
   "execution_count": null,
   "metadata": {},
   "outputs": [],
   "source": [
    "det_obj = det_obj.update_lsd(quant=2.25e-2)\n",
    "det_res = det_obj.detect(cutoff=90.0, filter_threshold=8.0, group_threshold=0.75, dilation=5.0)\n",
    "det_res = det_res.refine_streaks(dilation=4.0)\n",
    "# det_res = det_res.update_patterns((1.0, 8.0, 15.0))"
   ]
  },
  {
   "cell_type": "code",
   "execution_count": null,
   "metadata": {},
   "outputs": [],
   "source": [
    "roi = (0, 2000, 0, 2000)\n",
    "inp = det_obj.data[index, roi[0]:roi[1], roi[2]:roi[3]]\n",
    "kernel = cbc.bin.gaussian_kernel(sigma=4.0, truncate=3.0)[:, None] * \\\n",
    "         cbc.bin.gaussian_kernel(sigma=4.0, truncate=3.0)\n",
    "kernel /= kernel.max()\n",
    "ki, kj = np.indices(kernel.shape) - np.array(kernel.shape)[:, None, None] // 2\n",
    "i, j = np.indices(inp.shape)\n",
    "ii = np.clip(ki[..., None, None] + i, 0, inp.shape[0] - 1)\n",
    "jj = np.clip(kj[..., None, None] + j, 0, inp.shape[1] - 1)\n",
    "\n",
    "f = np.exp(-(inp[ii, jj] - inp)**2 / (2.0 * 1.0**2))\n",
    "I = np.sum(f * kernel[..., None, None] * inp[ii, jj], axis=(0, 1))\n",
    "W = np.sum(f * kernel[..., None, None], axis=(0, 1))"
   ]
  },
  {
   "cell_type": "code",
   "execution_count": null,
   "metadata": {},
   "outputs": [],
   "source": [
    "img = (np.clip(np.where(W, I / W, 0.0), 0.2, 3.0) - 0.2) / 2.8\n",
    "# img = det_res.patterns[index, roi[0]:roi[1], roi[2]:roi[3]]\n",
    "out = det_obj.lsd_obj.detect(img, cutoff=90.0, filter_threshold=8.0,\n",
    "                             group_threshold=0.75, dilation=5.0,\n",
    "                             profile='gauss', num_threads=det_obj.num_threads)\n",
    "stks = cbc.Streaks(*(out['lines'][0][:, :5].T))"
   ]
  },
  {
   "cell_type": "code",
   "execution_count": null,
   "metadata": {},
   "outputs": [],
   "source": [
    "%matplotlib widget\n",
    "\n",
    "index = 0\n",
    "\n",
    "fig, ax = plt.subplots(1, 1, figsize=(6, 6))\n",
    "ax.imshow(img, vmin=0.0, vmax=1.0, cmap='gray_r')\n",
    "# ax.imshow(np.zeros(4) + np.array([0.0, 0.0, 0.0, 1.0]) * det_res.patterns[index, ..., None])\n",
    "# ax.imshow(np.clip(det_res.data[index], 0.0, np.inf) * det_res.draw(dilation=0.0)[index],\n",
    "#           vmin=0.0, vmax=10.0, cmap='gray_r')\n",
    "for line in stks.to_lines():\n",
    "    ax.plot(line[:4:2], line[1:4:2], c='r', alpha=0.2)\n",
    "\n",
    "# ax.set_xlim(0, det_res.shape[2])\n",
    "# ax.set_ylim(det_res.shape[1], 0)\n",
    "fig.tight_layout()\n",
    "plt.show()"
   ]
  },
  {
   "cell_type": "code",
   "execution_count": null,
   "metadata": {},
   "outputs": [],
   "source": [
    "%matplotlib widget\n",
    "\n",
    "index = 0\n",
    "\n",
    "fig, ax = plt.subplots(1, 1, figsize=(6, 6))\n",
    "ax.imshow(img, vmin=0.0, vmax=1.0, cmap='gray_r')\n",
    "# ax.imshow(np.zeros(4) + np.array([0.0, 0.0, 0.0, 1.0]) * det_res.patterns[index, ..., None])\n",
    "# ax.imshow(np.clip(det_res.data[index], 0.0, np.inf) * det_res.draw(dilation=0.0)[index],\n",
    "#           vmin=0.0, vmax=10.0, cmap='gray_r')\n",
    "for line in stks.to_lines():\n",
    "    ax.plot(line[:4:2], line[1:4:2], c='r', alpha=0.2)\n",
    "\n",
    "# ax.set_xlim(0, det_res.shape[2])\n",
    "# ax.set_ylim(det_res.shape[1], 0)\n",
    "fig.tight_layout()\n",
    "plt.show()"
   ]
  },
  {
   "cell_type": "code",
   "execution_count": null,
   "metadata": {},
   "outputs": [],
   "source": [
    "basis = cbc.Basis.import_ini('results/Lysozyme_June_2021/scan_232_basis_ref_2.ini')\n",
    "setup = cbc.ScanSetup.import_ini('results/Lysozyme_June_2021/exp_geom_232_ref_2.ini')\n",
    "df = pd.read_hdf('results/Lysozyme_June_2021/scan_232_samples_log_2.h5', 'data')\n",
    "samples = cbc.ScanSamples.import_dataframe(df)\n",
    "mdl_det = data.model_detector(basis, samples, setup)"
   ]
  },
  {
   "cell_type": "code",
   "execution_count": null,
   "metadata": {},
   "outputs": [],
   "source": [
    "hkl = basis.generate_hkl(0.3)\n",
    "\n",
    "streaks = {idx: model.generate_streaks(hkl, 5.0, hkl_index=True)\n",
    "           for idx, model in mdl_det.models.items()}\n",
    "snr = np.zeros(hkl.shape[0])\n",
    "cnts = np.zeros(hkl.shape[0], dtype=int)\n",
    "for idx, stks in streaks.items():\n",
    "    df = stks.pattern_dataframe(shape=mdl_det.shape[1:], dilation=0.0,\n",
    "                                profile='gauss')\n",
    "    np.add.at(snr, df['hkl_id'], mdl_det.snr[idx, df['y'], df['x']])\n",
    "    np.add.at(cnts, df['hkl_id'], np.ones(df.shape[0], dtype=int))\n",
    "    \n",
    "idxs = np.where(snr > 0.0)[0]"
   ]
  },
  {
   "cell_type": "code",
   "execution_count": null,
   "metadata": {},
   "outputs": [],
   "source": [
    "%matplotlib widget\n",
    "fig, ax = plt.subplots(figsize=(8, 4))\n",
    "ax.plot(idxs , snr[idxs] / cnts[idxs])\n",
    "plt.show()"
   ]
  },
  {
   "cell_type": "code",
   "execution_count": null,
   "metadata": {},
   "outputs": [],
   "source": [
    "idxs = np.where(snr > 0.7 * cnts)[0]\n",
    "# mdl_det = mdl_det.detect(hkl=hkl[idxs], width=5.0, hkl_index=True)"
   ]
  },
  {
   "cell_type": "code",
   "execution_count": null,
   "metadata": {},
   "outputs": [],
   "source": [
    "index = 5\n",
    "p = det_res.data[index]\n",
    "lines = mdl_det.streaks[index].to_lines()\n",
    "ce_list = []\n",
    "\n",
    "ws = np.linspace(1.0, 20.0, 100)\n",
    "for w in ws:\n",
    "    lines[:, 4] = w\n",
    "    streaks = cbc.Streaks(*lines.T)\n",
    "    q = streaks.pattern_image(shape=mdl_det.shape[1:], profile='gauss')\n",
    "    ce_list.append(np.std(p * (1 - q)))"
   ]
  },
  {
   "cell_type": "code",
   "execution_count": null,
   "metadata": {},
   "outputs": [],
   "source": [
    "%matplotlib widget\n",
    "fig, ax = plt.subplots(figsize=(6, 6))\n",
    "\n",
    "lines[:, 4] = 20.0\n",
    "streaks = cbc.Streaks(*lines.T)\n",
    "q = streaks.pattern_image(shape=mdl_det.shape[1:])\n",
    "\n",
    "# ax.plot(ws, ce_list)\n",
    "ax.imshow(p * (1 - q), vmin=0, vmax=3, cmap='gray_r')\n",
    "# ax.imshow(mdl_det.data[index], vmin=0.0, vmax=3.0, cmap='gray_r')\n",
    "# for line in mdl_det.streaks[index].to_lines():\n",
    "#     ax.plot(line[:4:2], line[1:4:2], c='r', alpha=0.2)\n",
    "\n",
    "# ax.set_xlim(0, mdl_det.shape[2])\n",
    "# ax.set_ylim(mdl_det.shape[1], 0)\n",
    "fig.tight_layout()\n",
    "plt.show()"
   ]
  },
  {
   "cell_type": "code",
   "execution_count": null,
   "metadata": {},
   "outputs": [],
   "source": [
    "setup = cbc.ScanSetup.import_ini('results/Lysozyme_June_2021/exp_geom_232_ref_2.ini')\n",
    "basis = cbc.Basis.import_ini('results/Lysozyme_June_2021/scan_232_basis_ref_2.ini')\n",
    "crop = cbc.Crop(roi=(1100, 3260, 1040, 3108))\n",
    "\n",
    "scan_num = 232\n",
    "dir_path = '/asap3/petra3/gpfs/p11/2021/data/11010570/raw'\n",
    "h5_dir = os.path.join(dir_path, f'scan_frames/Scan_{scan_num:d}')\n",
    "h5_files = sorted([os.path.join(h5_dir, path) for path in os.listdir(h5_dir)\n",
    "                   if path.endswith(('LambdaFar.nxs', '.h5'))])\n",
    "data = cbc.CrystData(cbc.CXIStore(h5_files), transform=crop)\n",
    "\n",
    "wf_data = cbc.CrystData(cbc.CXIStore(f'results/Lysozyme_June_2021/scan_250_whitefield.h5'),\n",
    "                        transform=crop).load('whitefield')"
   ]
  },
  {
   "cell_type": "code",
   "execution_count": null,
   "metadata": {},
   "outputs": [],
   "source": [
    "frames = np.arange(0, 301, 100)\n",
    "\n",
    "data = data.clear().load(idxs=frames)\n",
    "data = data.update_mask(method='range-bad', vmax=10000000)\n",
    "data = data.mask_pupil(setup, padding=50)\n",
    "data = data.import_whitefield(wf_data.whitefield)\n",
    "data = data.blur_pupil(setup, padding=60, blur=20)"
   ]
  },
  {
   "cell_type": "code",
   "execution_count": null,
   "metadata": {},
   "outputs": [],
   "source": [
    "data = data.import_patterns(table.table)\n",
    "data = data.update_background()"
   ]
  },
  {
   "cell_type": "code",
   "execution_count": null,
   "metadata": {},
   "outputs": [],
   "source": [
    "det_obj = data.lsd_detector()\n",
    "det_obj.data = np.where(data.mask, data.cor_data / np.sqrt(data.background), 0.0)\n",
    "det_obj = det_obj.generate_patterns(vmin=0.3, vmax=3.0, size=(1, 3, 3))"
   ]
  },
  {
   "cell_type": "code",
   "execution_count": null,
   "metadata": {},
   "outputs": [],
   "source": [
    "det_obj = det_obj.update_lsd(quant=1e-2)\n",
    "det_res = det_obj.detect(cutoff=90.0, filter_threshold=12.0, group_threshold=0.7, dilation=6.0)\n",
    "det_res = det_res.update_patterns((3.0, 8.0, 15.0))"
   ]
  },
  {
   "cell_type": "code",
   "execution_count": null,
   "metadata": {},
   "outputs": [],
   "source": [
    "part = table_det.get_frames(frames)\n",
    "hkl = np.load('results/Lysozyme_June_2021/scan_232_hkl.npy')\n",
    "tilts = np.load('results/Lysozyme_June_2021/scan_232_tilts.npy')\n",
    "\n",
    "bounds = cbc.SetupRefiner.generate_bounds(lat_tol=(0.03, 0.07), foc_tol=0.03,\n",
    "                                          rot_tol=0.07, z_tol=0.03, tilt_tol=0.0,\n",
    "                                          frames=table_det.frames)\n",
    "\n",
    "refiner = part.refine_setup(bounds, basis, hkl, tilts[part.frames], width=10.0)\n",
    "refiner.filter_hkl(refiner.x0)\n",
    "hkl = np.concatenate([refiner.hkl[model.generate_streaks(refiner.hkl, refiner.width, hkl_index=True).hkl_id]\n",
    "                      for model in refiner.generate_models(refiner.x0).values()])\n",
    "hkl = np.unique(hkl, axis=0)\n",
    "print(hkl.shape)"
   ]
  },
  {
   "cell_type": "code",
   "execution_count": null,
   "metadata": {},
   "outputs": [],
   "source": [
    "basis = cbc.Basis.import_ini('results/Lysozyme_June_2021/scan_232_basis.ini')\n",
    "part.setup = cbc.ScanSetup.import_ini('results/Lysozyme_June_2021/exp_geom_232.ini')\n",
    "refiner = part.refine_setup(bounds, basis, hkl, tilts[part.frames], width=10.0)"
   ]
  },
  {
   "cell_type": "code",
   "execution_count": null,
   "metadata": {},
   "outputs": [],
   "source": [
    "%time refiner.fitness(refiner.x0)"
   ]
  },
  {
   "cell_type": "code",
   "execution_count": null,
   "metadata": {},
   "outputs": [],
   "source": [
    "uda = pygmo.de(gen=50)\n",
    "algo = pygmo.algorithm(uda)\n",
    "prob = pygmo.problem(refiner)\n",
    "pops = [pygmo.population(size=10, prob=prob, b=pygmo.bfe()) for _ in range(32)]\n",
    "archi = pygmo.archipelago()\n",
    "for pop in pops:\n",
    "    archi.push_back(algo=algo, pop=pop)"
   ]
  },
  {
   "cell_type": "code",
   "execution_count": null,
   "metadata": {},
   "outputs": [],
   "source": [
    "archi.evolve()\n",
    "%time archi.wait()\n",
    "x = archi.get_champions_x()[np.argmin(archi.get_champions_f())]\n",
    "refiner.fitness(x), np.min(archi.get_champions_f())"
   ]
  },
  {
   "cell_type": "code",
   "execution_count": null,
   "metadata": {},
   "outputs": [],
   "source": [
    "refiner.fitness(refiner.x0), refiner.fitness(xarr[-1])"
   ]
  },
  {
   "cell_type": "markdown",
   "metadata": {},
   "source": [
    "# Intensity merging"
   ]
  },
  {
   "cell_type": "code",
   "execution_count": null,
   "metadata": {},
   "outputs": [],
   "source": [
    "if sys.modules.get('dev'): # Maybe sys.modules is better?\n",
    "    dev = sys.modules.get('dev')\n",
    "    dev = reload(dev)\n",
    "else:\n",
    "    import dev\n",
    "print(dir(dev))"
   ]
  },
  {
   "cell_type": "code",
   "execution_count": null,
   "metadata": {},
   "outputs": [],
   "source": [
    "setup = cbc.ScanSetup.import_ini('results/Lysozyme_June_2021/exp_geom_232_ext_2.ini')\n",
    "table = cbc.CBCTable.import_hdf('results/Lysozyme_June_2021/scan_232_modeled_part_ext.h5', 'data', setup)\n",
    "crop = cbc.Crop(roi=(1100, 3260, 1040, 3108))\n",
    "basis = cbc.Basis.import_ini('results/Lysozyme_June_2021/scan_232_basis_ref_2.ini')\n",
    "df = pd.read_hdf('results/Lysozyme_June_2021/scan_232_samples_log_2.h5', 'data')\n",
    "samples = cbc.ScanSamples.import_dataframe(df)"
   ]
  },
  {
   "cell_type": "code",
   "execution_count": null,
   "metadata": {},
   "outputs": [],
   "source": [
    "scan_num = 232\n",
    "dir_path = '/asap3/petra3/gpfs/p11/2021/data/11010570/raw'\n",
    "h5_dir = os.path.join(dir_path, f'scan_frames/Scan_{scan_num:d}')\n",
    "h5_files = sorted([os.path.join(h5_dir, path) for path in os.listdir(h5_dir)\n",
    "                   if path.endswith(('LambdaFar.nxs', '.h5'))])\n",
    "data = cbc.CrystData(cbc.CXIStore(h5_files), transform=crop)\n",
    "\n",
    "wf_data = cbc.CrystData(cbc.CXIStore(f'results/Lysozyme_June_2021/scan_250_whitefield.h5'),\n",
    "                        transform=crop).load('whitefield')"
   ]
  },
  {
   "cell_type": "code",
   "execution_count": null,
   "metadata": {},
   "outputs": [],
   "source": [
    "index = 0\n",
    "\n",
    "data = data.clear().load(idxs=index)\n",
    "data = data.update_mask(method='range-bad', vmax=10000000)\n",
    "data = data.mask_pupil(setup, padding=60)\n",
    "data = data.import_whitefield(wf_data.whitefield)\n",
    "data = data.blur_pupil(setup, padding=80, blur=20)\n",
    "\n",
    "image = table.pattern_image(index, key='rp')"
   ]
  },
  {
   "cell_type": "code",
   "execution_count": null,
   "metadata": {},
   "outputs": [],
   "source": [
    "%matplotlib widget\n",
    "fig, ax = plt.subplots(1, 1, figsize=(6, 6))\n",
    "ax.imshow(data.cor_data[0], cmap='gray_r', vmin=0.5, vmax=5.0)\n",
    "ax.imshow(np.array([1.0, 0.0, 0.0, 0.0]) + image[..., None] * np.array([0.0, 0.0, 0.0, 0.5]))\n",
    "\n",
    "ax.legend(fontsize=20)\n",
    "\n",
    "ax.set_xlim(0, data.shape[2])\n",
    "ax.set_ylim(data.shape[1], 0)\n",
    "ax.set_xticks([])\n",
    "ax.set_yticks([])\n",
    "plt.tight_layout()\n",
    "plt.show()"
   ]
  },
  {
   "cell_type": "code",
   "execution_count": null,
   "metadata": {},
   "outputs": [],
   "source": [
    "scaler_init = table.scale((80, 80), basis, samples, 64)"
   ]
  },
  {
   "cell_type": "code",
   "execution_count": null,
   "metadata": {},
   "outputs": [],
   "source": [
    "scaler = scaler_init.merge_hkl('4mm')\n",
    "xtal = cbc.Map3D.import_hdf('results/Lysozyme_June_2021/scaling/lys_xtal.h5', 'data')\n",
    "scaler = scaler.replace(xtal=xtal, xtal_bi=None)\n",
    "x = np.load('results/Lysozyme_June_2021/scaling/lys_factors.npy')"
   ]
  },
  {
   "cell_type": "code",
   "execution_count": null,
   "metadata": {},
   "outputs": [],
   "source": [
    "%matplotlib widget\n",
    "fig, ax = plt.subplots(1, 3, figsize=(8, 4), gridspec_kw={'width_ratios': [0.1, 1.0, 1.0]})\n",
    "\n",
    "slider = Slider(ax=ax[0], label='Frame', valmin=0, valmax=scaler.xtal.shape[0] - 1,\n",
    "                valstep=np.arange(0, scaler.xtal.shape[0]),\n",
    "                valinit=0, orientation=\"vertical\")\n",
    "\n",
    "im0 = ax[1].imshow(scaler0.xtal.val[0], vmin=0.1, vmax=4.4)\n",
    "im1 = ax[2].imshow(scaler.xtal.val[0], vmin=0.1, vmax=4.4)\n",
    "\n",
    "def update(val):\n",
    "    im0.set_data(scaler0.xtal.val[slider.val])\n",
    "    im1.set_data(scaler.xtal.val[slider.val])\n",
    "    fig.canvas.draw_idle()\n",
    "\n",
    "slider.on_changed(update)\n",
    "\n",
    "fig.tight_layout()\n",
    "plt.show()"
   ]
  },
  {
   "cell_type": "code",
   "execution_count": null,
   "metadata": {},
   "outputs": [],
   "source": [
    "def correction(sfac, theta, wl, l_cube, v_cell, l_block, l_att):\n",
    "    y = l_cube / l_att\n",
    "    x = (wl * sfac * 2.8178 * 10**-9 * l_block / v_cell)**2\n",
    "    laue_1 = np.exp(-y) * (1.0 - 0.5 * x + 0.25 * x**2 - \\\n",
    "                           0.10416666666666667 * x**3 + 0.036458333333333336 * x**4)\n",
    "    laue_2 = np.exp(-y) * np.sqrt(0.6366197723675814 / x) * \\\n",
    "             (1.0 - 0.125 * x**-1 - 0.0234375 * x**-2 - 0.0146484375 * x**-3)\n",
    "    laue = np.where(x <= 1.0, laue_1, laue_2)\n",
    "    bragg = np.exp(-y) * np.sinh(y) / y / np.sqrt(1.0 + (y**-1 - np.exp(-y) / np.sinh(y)) * x)\n",
    "    return laue * np.cos(theta)**2 + bragg * np.sin(theta)**2"
   ]
  },
  {
   "cell_type": "code",
   "execution_count": null,
   "metadata": {},
   "outputs": [],
   "source": [
    "rec_vec = table.table.loc[:, ['h', 'k', 'l']].to_numpy().dot(basis.mat)\n",
    "rec_vec = samples.rotate(rec_vec, table.finv, num_threads=64)\n",
    "kout = samples.detector_to_kout(table.table['x'].to_numpy(), table.table['y'].to_numpy(),\n",
    "                                table.setup, table.finv, rec_vec, 64)\n",
    "theta = np.zeros(scaler.hkl_idxs.max() + 1, dtype=float)\n",
    "theta[scaler.hkl_idxs[scaler.idxs]] = np.arccos(kout[:, 2])"
   ]
  },
  {
   "cell_type": "code",
   "execution_count": null,
   "metadata": {},
   "outputs": [],
   "source": [
    "from scripts.cbc_simulation import unmerge_hkl_list\n",
    "\n",
    "hkl_full, sfac_full = unmerge_hkl_list(basis, 'results/1azf.pdb.hkl', 0.3)\n",
    "rec_abs = np.sqrt(np.sum(hkl_full.dot(basis.mat)**2, axis=1))\n",
    "idxs1 = np.where(np.all(scaler.hkl[:, None] == hkl_full[None, :], axis=-1))[0]\n",
    "idxs2 = np.where(np.all(scaler.hkl[:, None] == hkl_full[None, :], axis=-1))[1]"
   ]
  },
  {
   "cell_type": "code",
   "execution_count": null,
   "metadata": {},
   "outputs": [],
   "source": [
    "sf_data = scaler.merge_sfac(x, '4mm')\n",
    "# mask = np.where(scaler.gain(x) > 100)[0]\n",
    "# sort_idxs = np.argsort(np.sum(np.abs(scaler.hkl[idxs1][mask]), axis=-1))"
   ]
  },
  {
   "cell_type": "code",
   "execution_count": null,
   "metadata": {},
   "outputs": [],
   "source": [
    "l_att = 10680.7 # microns\n",
    "l_cube = 400.0 # microns\n",
    "wl = 1.239842 / 17500 # microns\n",
    "v_cell = np.prod(basis.reciprocate().lattice_constants()[:-3] * wl)"
   ]
  },
  {
   "cell_type": "code",
   "execution_count": null,
   "metadata": {},
   "outputs": [],
   "source": [
    "sfac_mrg = sf_data['sfac'][idxs1]\n",
    "sfac_sim = sfac_full[idxs2]\n",
    "rec_abs = rec_abs[idxs2]\n",
    "# theta = theta[idxs1]"
   ]
  },
  {
   "cell_type": "code",
   "execution_count": null,
   "metadata": {},
   "outputs": [],
   "source": [
    "from scipy.optimize import minimize\n",
    "\n",
    "def r_split(x, sfac_sim, sfac_mrg, mask):\n",
    "    sfac_mrg = np.exp(x[0]) * sfac_mrg\n",
    "    sfac_sim = sfac_sim * correction(sfac_sim, theta, wl, l_cube, v_cell, x[1], l_att)\n",
    "    return np.sqrt(2.0) * np.sum(np.abs(sfac_sim[mask] - sfac_mrg[mask])) / \\\n",
    "           np.sum(np.abs(sfac_sim[mask] + sfac_mrg[mask]))\n",
    "\n",
    "def cc_star(x, sfac_sim, sfac_mrg, mask):\n",
    "    sfac_mrg = np.exp(x[0]) * sfac_mrg\n",
    "    sfac_sim = sfac_sim * correction(sfac_sim, theta, wl, l_cube, v_cell, x[1], l_att)\n",
    "    a = sfac_sim[mask] - np.mean(sfac_sim.mean())\n",
    "    b = sfac_mrg[mask] - np.mean(sfac_mrg[mask])\n",
    "    return np.sum(a * b) / np.sqrt(np.sum(a * a) * np.sum(b * b))\n",
    "\n",
    "idx = 0\n",
    "bounds = np.arange(0, 5) * setup.wavelength * 1e9\n",
    "# mask = (scaler.gain(x) > 10) & (rec_abs >= bounds[idx]) & (rec_abs < bounds[idx + 1])\n",
    "mask = scaler.gain(x) > 10\n",
    "res = minimize(r_split, np.array([10, 1]), args=(sfac_sim, sfac_mrg, mask))\n",
    "print(r_split(res.x, sfac_sim, sfac_mrg, mask))\n",
    "print(cc_star(res.x, sfac_sim, sfac_mrg, mask))"
   ]
  },
  {
   "cell_type": "code",
   "execution_count": null,
   "metadata": {},
   "outputs": [],
   "source": [
    "from scipy.optimize import minimize\n",
    "\n",
    "def r_split(x, sfac_sim, sfac_mrg, mask):\n",
    "    sfac_mrg = np.exp(x) * sfac_mrg\n",
    "    return np.sqrt(2.0) * np.sum(np.abs(sfac_sim[mask] - sfac_mrg[mask])) / \\\n",
    "           np.sum(np.abs(sfac_sim[mask] + sfac_mrg[mask]))\n",
    "\n",
    "def cc_star(x, sfac_sim, sfac_mrg, mask):\n",
    "    sfac_mrg = np.exp(x) * sfac_mrg\n",
    "    a = sfac_sim[mask] - np.mean(sfac_sim.mean())\n",
    "    b = sfac_mrg[mask] - np.mean(sfac_mrg[mask])\n",
    "    return np.sum(a * b) / np.sqrt(np.sum(a * a) * np.sum(b * b))\n",
    "\n",
    "# mask = (scaler.gain(x) > 100) & (rec_abs >= 3e9 * setup.wavelength) & (rec_abs < 4e9 * setup.wavelength)\n",
    "mask = scaler.gain(x) > 100\n",
    "res = minimize(r_split, 10, args=(sfac_sim, sfac_mrg, mask))\n",
    "print(r_split(res.x, sfac_sim, sfac_mrg, mask))\n",
    "print(cc_star(res.x, sfac_sim, sfac_mrg, mask))"
   ]
  },
  {
   "cell_type": "code",
   "execution_count": null,
   "metadata": {},
   "outputs": [],
   "source": [
    "%matplotlib widget\n",
    "desy_orange = np.array([0.95, 0.55, 0.00])\n",
    "desy_cyan = np.array([0.00, 0.65, 0.92])\n",
    "frames = [0, 180]\n",
    "vmin, vmax = 0.0, 4.5\n",
    "cmap = 'gray_r'\n",
    "fontsize = 20\n",
    "\n",
    "fig, ax = plt.subplots(1, 1, figsize=(6, 6))\n",
    "\n",
    "sf_sim = np.log(sfac_sim)\n",
    "sf_mrg = np.log(np.exp(res.x[0]) * sfac_mrg)\n",
    "mask = np.where(scaler.gain(x) > 100)[0][::1]\n",
    "other = np.arange(sfac_full.size)[::70]\n",
    "\n",
    "ax.scatter(rec_abs[mask] / setup.wavelength * 1e-10, sf_sim[mask], s=5,\n",
    "           c=np.tile(desy_cyan[None, :], (mask.size, 1)), label='Lysozyme 1AZF')\n",
    "ax.scatter(rec_abs[mask] / setup.wavelength * 1e-10, sf_mrg[mask], s=5,\n",
    "           c=np.tile(desy_orange[None, :], (mask.size, 1)), label='reconstructed')\n",
    "ax.scatter(np.sqrt(np.sum(hkl_full[other].dot(basis.mat)**2, axis=1)) / setup.wavelength * 1e-10,\n",
    "           np.log(sfac_full)[other], s=3, alpha=0.15, c=np.tile(desy_cyan[None, :], (other.size, 1)))\n",
    "ax.set_ylabel(r\"$\\log(|F_{hkl}|^2)$\", fontsize=fontsize)\n",
    "ax.set_xlabel(r\"$|\\mathbf{g}_{hkl}|$, $\\text{Å}^{-1}$\", fontsize=fontsize)\n",
    "ax.set_ylim(9, 17)\n",
    "ax.tick_params(labelsize=20)\n",
    "ax.grid(True)\n",
    "ax.legend(fontsize=18)\n",
    "\n",
    "fig.tight_layout()\n",
    "# plt.show()\n",
    "plt.savefig('figures/lysozyme_sfac.pdf')"
   ]
  },
  {
   "cell_type": "markdown",
   "metadata": {},
   "source": [
    "# Streak detection, June 2021"
   ]
  },
  {
   "cell_type": "code",
   "execution_count": null,
   "metadata": {},
   "outputs": [],
   "source": [
    "dir_path = '/asap3/petra3/gpfs/p11/2021/data/11010570/raw'\n",
    "crop = cbc.Crop(roi=(1100, 3260, 1040, 3108))\n",
    "scan_setup = cbc.ScanSetup.import_ini('results/exp_geom_232.ini')\n",
    "data_dict = {}"
   ]
  },
  {
   "cell_type": "code",
   "execution_count": null,
   "metadata": {},
   "outputs": [],
   "source": [
    "scan_num = 209 # whitefield, 2s exposure\n",
    "\n",
    "wf_data = cbc.converter_petra(dir_path, scan_num, transform=crop)\n",
    "wf_data = wf_data.load('data', processes=16)\n",
    "\n",
    "wf_data = wf_data.update_mask(method='range-bad', vmax=10000000)\n",
    "wf_data = wf_data.update_whitefield(method='mean')"
   ]
  },
  {
   "cell_type": "code",
   "execution_count": null,
   "metadata": {},
   "outputs": [],
   "source": [
    "wf_data = wf_data.update_output_file(cbc.CXIStore(f'results/scan_{scan_num:d}_whitefield.h5', 'w'))\n",
    "wf_data.save(attributes=['mask', 'whitefield', 'data', 'translations', 'tilts'], mode='overwrite')"
   ]
  },
  {
   "cell_type": "code",
   "execution_count": null,
   "metadata": {},
   "outputs": [],
   "source": [
    "scan_num = 209 # whitefield, 2s exposure\n",
    "\n",
    "file = cbc.CXIStore(f'results/scan_{scan_num:d}_whitefield.h5', 'r')\n",
    "wf_data = cbc.CrystData(file, transform=None)\n",
    "wf_data = wf_data.load()"
   ]
  },
  {
   "cell_type": "code",
   "execution_count": null,
   "metadata": {},
   "outputs": [],
   "source": [
    "scan_num = 213 # B12 protein crystal, 1s exposure, 50 frames\n",
    "pupil = (1050, 1200,  860,  990)\n",
    "\n",
    "data = cbc.converter_petra(dir_path, scan_num, mask=mask)"
   ]
  },
  {
   "cell_type": "code",
   "execution_count": null,
   "metadata": {},
   "outputs": [],
   "source": [
    "# Lysozyme crystal, 1s exposure, 101 x 4 x 4 frames\n",
    "# Diffraction starts from frame 505\n",
    "scan_num = 250\n",
    "pupil = (1100, 1270,  860, 1070)\n",
    "\n",
    "h5_dir = os.path.join(dir_path, f'scan_frames/Scan_{scan_num:d}')\n",
    "h5_files = sorted([os.path.join(h5_dir, path) for path in os.listdir(h5_dir)\n",
    "                   if path.endswith(('LambdaFar.nxs', '.h5'))])\n",
    "data_dict[scan_num] = cbc.CrystData(cbc.CXIStore(h5_files, 'r'), crop)"
   ]
  },
  {
   "cell_type": "code",
   "execution_count": null,
   "metadata": {},
   "outputs": [],
   "source": [
    "data_dict[scan_num] = data_dict[scan_num].load(idxs=np.arange(101), processes=8)\n",
    "data_dict[scan_num] = data_dict[scan_num].update_mask(method='range-bad', vmax=10000000)\n",
    "data_dict[scan_num] = data_dict[scan_num].update_whitefield('mean')"
   ]
  },
  {
   "cell_type": "code",
   "execution_count": null,
   "metadata": {},
   "outputs": [],
   "source": [
    "output_file = cbc.CXIStore(f'results/scan_{scan_num:d}_whitefield.h5', mode='w')\n",
    "data_dict[scan_num] = data_dict[scan_num].update_output_file(output_file)\n",
    "data_dict[scan_num].save(mode='overwrite')"
   ]
  },
  {
   "cell_type": "code",
   "execution_count": null,
   "metadata": {},
   "outputs": [],
   "source": [
    "scan_num = 250\n",
    "\n",
    "file = cbc.CXIStore(f'results/scan_{scan_num:d}_whitefield.h5')\n",
    "data_dict[scan_num] = cbc.CrystData(file, transform=None)\n",
    "data_dict[scan_num] = data_dict[scan_num].load('whitefield')"
   ]
  },
  {
   "cell_type": "code",
   "execution_count": null,
   "metadata": {},
   "outputs": [],
   "source": [
    "# Lysozyme crystal, 2s exposure, 721 frames, full rotation tilt series\n",
    "scan_num = 232\n",
    "\n",
    "h5_dir = os.path.join(dir_path, f'scan_frames/Scan_{scan_num:d}')\n",
    "h5_files = sorted([os.path.join(h5_dir, path) for path in os.listdir(h5_dir)\n",
    "                   if path.endswith(('LambdaFar.nxs', '.h5'))])\n",
    "data_dict[scan_num] = cbc.CrystData(cbc.CXIStore(h5_files, 'r'), crop)"
   ]
  },
  {
   "cell_type": "code",
   "execution_count": null,
   "metadata": {},
   "outputs": [],
   "source": [
    "scan_num = 232\n",
    "\n",
    "data_dict[scan_num] = data_dict[scan_num].clear().load(idxs=np.arange(100), processes=12)\n",
    "data_dict[scan_num] = data_dict[scan_num].update_mask(method='range-bad', vmax=10000000)\n",
    "data_dict[scan_num] = data_dict[scan_num].mask_pupil(scan_setup, padding=60)\n",
    "data_dict[scan_num] = data_dict[scan_num].import_whitefield(data_dict[250].whitefield)\n",
    "data_dict[scan_num] = data_dict[scan_num].blur_pupil(scan_setup, padding=80, blur=20)"
   ]
  },
  {
   "cell_type": "code",
   "execution_count": null,
   "metadata": {},
   "outputs": [],
   "source": [
    "%matplotlib widget\n",
    "idx = 4\n",
    "\n",
    "fig, ax = plt.subplots(1, 2, figsize=(8, 4))\n",
    "ax[0].imshow(data_dict[scan_num].background[idx], vmax=50)\n",
    "ax[1].imshow(data_dict[scan_num].cor_data[idx], vmin=0.5, vmax=5)\n",
    "plt.tight_layout()\n",
    "plt.show()"
   ]
  },
  {
   "cell_type": "code",
   "execution_count": null,
   "metadata": {},
   "outputs": [],
   "source": [
    "scan_num = 232\n",
    "\n",
    "det_obj = data_dict[scan_num].lsd_detector()\n",
    "det_obj = det_obj.generate_pattern(vmin=0.5, vmax=5.0, size=(1, 3, 3))\n",
    "det_obj = det_obj.update_lsd(quant=2.0e-2, ang_th=45.0)"
   ]
  },
  {
   "cell_type": "code",
   "execution_count": null,
   "metadata": {},
   "outputs": [],
   "source": [
    "%time det_res = det_obj.detect(cutoff=60.0, filter_threshold=0.1, group_threshold=0.5, \\\n",
    "                               dilation=0.5)"
   ]
  },
  {
   "cell_type": "code",
   "execution_count": null,
   "metadata": {},
   "outputs": [],
   "source": [
    "%time det_res = det_res.draw_streaks()"
   ]
  },
  {
   "cell_type": "code",
   "execution_count": null,
   "metadata": {},
   "outputs": [],
   "source": [
    "%time det_res = det_res.draw_background()"
   ]
  },
  {
   "cell_type": "code",
   "execution_count": null,
   "metadata": {},
   "outputs": [],
   "source": [
    "# %time det_res = det_res.update_pattern()"
   ]
  },
  {
   "cell_type": "code",
   "execution_count": null,
   "metadata": {},
   "outputs": [],
   "source": [
    "frame_idx = 80\n",
    "\n",
    "fig, ax = plt.subplots(figsize=(6, 6))\n",
    "# ax.imshow(det_obj.pattern[frame_idx], vmin=0.0, vmax=1.0, cmap='gray_r')\n",
    "ax.imshow(det_res.data[frame_idx], vmin=0.5, vmax=5.0, cmap='gray_r')\n",
    "for line in det_res.streaks[frame_idx].to_numpy():\n",
    "    ax.plot(line[:4:2], line[1:4:2], c='r', alpha=0.6)\n",
    "ax.set_xlim(0, det_obj.data.shape[2])\n",
    "ax.set_ylim(det_obj.data.shape[1], 0)\n",
    "plt.tight_layout()\n",
    "plt.show()"
   ]
  },
  {
   "cell_type": "code",
   "execution_count": null,
   "metadata": {},
   "outputs": [],
   "source": [
    "df = det_res.export_table(concatenate=True)\n",
    "# df.to_hdf(f'results/scan_232_test.h5', 'data')"
   ]
  },
  {
   "cell_type": "code",
   "execution_count": null,
   "metadata": {},
   "outputs": [],
   "source": [
    "scan_num = 250\n",
    "\n",
    "file = cbc.CXIStore(f'results/scan_{scan_num:d}_whitefield.h5')\n",
    "data_dict[scan_num] = cbc.CrystData(file, transform=None)\n",
    "data_dict[scan_num] = data_dict[scan_num].load('whitefield', processes=2)"
   ]
  },
  {
   "cell_type": "code",
   "execution_count": null,
   "metadata": {},
   "outputs": [],
   "source": [
    "scan_num = 232\n",
    "data = cbc.converter_petra(dir_path, scan_num, transform=crop,\n",
    "                           idxs=[])\n",
    "\n",
    "tables = []\n",
    "for idxs in tqdm(np.array_split(np.arange(721), 10), total=10, desc=f'Processing scan {scan_num:d}'):\n",
    "    data = data.clear().load(idxs=idxs, processes=12)\n",
    "    data = data.update_mask(method='range-bad', vmax=10000000)\n",
    "    data = data.mask_pupil(scan_setup, padding=60)\n",
    "    data = data.import_whitefield(data_dict[250].whitefield)\n",
    "    data = data.blur_pupil(scan_setup, padding=80, blur=20)\n",
    "    det_obj = data.get_detector()\n",
    "    det_obj = det_obj.generate_streak_data(vmin=0.5, vmax=5., size=(1, 3, 3))\n",
    "    det_obj = det_obj.update_lsd(quant=2.0e-2)\n",
    "    det_res = det_obj.detect(cutoff=70.0, filter_threshold=32.5, group_threshold=0.7)\n",
    "    det_res = det_res.generate_bgd_mask()\n",
    "    det_res = det_res.update_streak_data()\n",
    "    tables.append(det_res.export_table(concatenate=True))"
   ]
  },
  {
   "cell_type": "code",
   "execution_count": null,
   "metadata": {},
   "outputs": [],
   "source": [
    "table = pd.concat(tables)\n",
    "table.to_hdf('results/scan_232_indexing.h5', 'data')"
   ]
  },
  {
   "cell_type": "markdown",
   "metadata": {},
   "source": [
    "# Streak detection, May 2022"
   ]
  },
  {
   "cell_type": "code",
   "execution_count": null,
   "metadata": {},
   "outputs": [],
   "source": [
    "from cbclib.cli import CBCParser\n",
    "\n",
    "CBCParser().detect([], 'results/Zeolite_May_2022/scripts/detect_lsd.ini')"
   ]
  },
  {
   "cell_type": "code",
   "execution_count": null,
   "metadata": {},
   "outputs": [],
   "source": [
    "dir_path = '/asap3/petra3/gpfs/p11/2022/data/11012881/raw'"
   ]
  },
  {
   "cell_type": "code",
   "execution_count": null,
   "metadata": {},
   "outputs": [],
   "source": [
    "# Zeolite crystal, 0.8s exposure, 200 deg span, 20mdeg step, scans 92, 96, 96, 100, 102, 104, 106\n",
    "scan_setup = cbc.ScanSetup.import_ini('results/Zeolite_May_2022/exp_geom_92.ini')\n",
    "\n",
    "wf_data = cbc.CrystData(cbc.CXIStore('results/Zeolite_May_2022/whitefield.h5')).load()"
   ]
  },
  {
   "cell_type": "code",
   "execution_count": null,
   "metadata": {},
   "outputs": [],
   "source": [
    "scan_nums = [93, 96, 98, 100, 102, 104, 106]\n",
    "h5_files = []\n",
    "for scan_num in scan_nums:\n",
    "    h5_dir = os.path.join(dir_path, f'scan_frames/Scan_{scan_num:d}')\n",
    "    h5_files.extend([os.path.join(h5_dir, path) for path in os.listdir(h5_dir)\n",
    "                     if path.endswith(('LambdaFar.nxs', '.h5')) and not path.endswith('master.h5')])\n",
    "key_func = lambda path: [int(string) for string in os.path.splitext(os.path.basename(path))[0].split('_') if string.isdigit()]\n",
    "h5_files = sorted(h5_files, key=key_func)\n",
    "data = cbc.CrystData(cbc.CXIStore(h5_files))"
   ]
  },
  {
   "cell_type": "code",
   "execution_count": null,
   "metadata": {},
   "outputs": [],
   "source": [
    "data = data.clear().load(idxs=np.arange(0, 1000, 100), processes=4)\n",
    "data = data.update_mask(method='range-bad', vmax=10000000)\n",
    "data = data.mask_pupil(scan_setup, padding=40)\n",
    "data = data.import_whitefield(wf_data.whitefield)\n",
    "data = data.blur_pupil(scan_setup, padding=60, blur=20)"
   ]
  },
  {
   "cell_type": "code",
   "execution_count": null,
   "metadata": {},
   "outputs": [],
   "source": [
    "%matplotlib widget\n",
    "fig, ax = plt.subplots(1, 2, figsize=(8.5, 8), gridspec_kw={'width_ratios': [0.1, 1.0]})\n",
    "\n",
    "stride = 4\n",
    "\n",
    "slider = Slider(ax=ax[0], label='Frame', valmin=0, valmax=data.shape[0] - 1,\n",
    "                valstep=np.arange(0, data.shape[0]),\n",
    "                valinit=0, orientation=\"vertical\")\n",
    "\n",
    "im = ax[1].imshow(data.cor_data[0, ::stride, ::stride], vmin=0.0, vmax=10.0)\n",
    "\n",
    "def update(val):\n",
    "    im.set_data(data.cor_data[slider.val, ::stride, ::stride])\n",
    "    fig.canvas.draw_idle()\n",
    "\n",
    "slider.on_changed(update)\n",
    "\n",
    "fig.tight_layout()\n",
    "plt.show()"
   ]
  },
  {
   "cell_type": "code",
   "execution_count": null,
   "metadata": {},
   "outputs": [],
   "source": [
    "det_obj = data.lsd_detector()\n",
    "det_obj = det_obj.generate_patterns(vmin=0.9, vmax=5.0, size=(1, 3, 3))"
   ]
  },
  {
   "cell_type": "code",
   "execution_count": null,
   "metadata": {},
   "outputs": [],
   "source": [
    "det_res = det_obj.detect(cutoff=90.0, filter_threshold=12.0, group_threshold=0.7, dilation=4.5)"
   ]
  },
  {
   "cell_type": "code",
   "execution_count": null,
   "metadata": {},
   "outputs": [],
   "source": [
    "det_res = det_res.update_patterns((4.5, 5.5, 12.5))"
   ]
  },
  {
   "cell_type": "code",
   "execution_count": null,
   "metadata": {},
   "outputs": [],
   "source": [
    "%matplotlib widget\n",
    "fig, ax = plt.subplots(figsize=(6, 6))\n",
    "ax.imshow(det_res.patterns[0], vmin=0.0, vmax=1.0, cmap='gray_r')\n",
    "# for line in det_res.streaks[0].to_lines():\n",
    "#     ax.plot(line[:4:2], line[1:4:2], c='r', alpha=0.5)\n",
    "ax.set_xlim(0, det_obj.shape[2])\n",
    "ax.set_ylim(det_obj.shape[1], 0)\n",
    "fig.tight_layout()\n",
    "plt.show()"
   ]
  },
  {
   "cell_type": "code",
   "execution_count": null,
   "metadata": {},
   "outputs": [],
   "source": [
    "thetas = []\n",
    "for scan_num in [93, 96, 98, 100, 102, 104, 106]:\n",
    "    log_file = f'/asap3/petra3/gpfs/p11/2022/data/11012881/raw/server_log/Scan_logs/Scan_{scan_num:d}.log'\n",
    "    log_data = cbc.LogContainer().read_logs(log_file)\n",
    "    thetas.append(log_data.log_data['SAM-R [Position] (int64,ndeg)'])"
   ]
  },
  {
   "cell_type": "code",
   "execution_count": null,
   "metadata": {},
   "outputs": [],
   "source": [
    "thetas = np.load('results/Zeolite_May_2022/scan_thetas.npy')\n",
    "setup = cbc.ScanSetup.import_ini('results/Zeolite_May_2022/exp_geom_92.ini')\n",
    "samples = setup.tilt_samples(np.arange(thetas.size), thetas - thetas[0])\n",
    "samples.to_dataframe().to_hdf('results/Zeolite_May_2022/scan_samples_log.h5', 'data')"
   ]
  },
  {
   "cell_type": "code",
   "execution_count": null,
   "metadata": {},
   "outputs": [],
   "source": [
    "setup = cbc.ScanSetup.import_ini('results/Zeolite_May_2022/exp_geom_92.ini')\n",
    "table = cbc.CBCTable.import_hdf('results/Zeolite_May_2022/scan_detected.h5', 'data', setup)\n",
    "crop = cbc.Crop(roi=(0, 4362, 0, 4148))\n",
    "samples = cbc.ScanSamples.import_dataframe(pd.read_hdf('results/Zeolite_May_2022/scan_samples_log.h5', 'data'))"
   ]
  },
  {
   "cell_type": "code",
   "execution_count": null,
   "metadata": {},
   "outputs": [],
   "source": [
    "table.table.to_hdf('results/Zeolite_May_2022/scan_detected.h5', 'data', complevel=1)"
   ]
  },
  {
   "cell_type": "code",
   "execution_count": null,
   "metadata": {},
   "outputs": [],
   "source": [
    "idxs = np.arange(10)\n",
    "pd.read_hdf('results/Zeolite_May_2022/scan_detected.h5', 'data', start=0, stop=10)"
   ]
  },
  {
   "cell_type": "code",
   "execution_count": null,
   "metadata": {},
   "outputs": [],
   "source": [
    "%matplotlib widget\n",
    "fig, ax = plt.subplots(figsize=(8, 8))\n",
    "ax.imshow(table.pattern_image(0, 'p'))\n",
    "\n",
    "fig.tight_layout()\n",
    "plt.show()"
   ]
  },
  {
   "cell_type": "code",
   "execution_count": null,
   "metadata": {},
   "outputs": [],
   "source": [
    "# Lysozyme crystal, 0.5s exposure, 18000 frames, full rotation tilt series\n",
    "scan_num = 207\n",
    "\n",
    "h5_dir = os.path.join(dir_path, f'scan_frames/Scan_{scan_num:d}')\n",
    "h5_files = sorted([os.path.join(h5_dir, path) for path in os.listdir(h5_dir)\n",
    "                   if path.endswith(('LambdaFar.nxs', '.h5'))])\n",
    "data = cbc.CrystData(cbc.CXIStore(h5_files), transform=crop)"
   ]
  },
  {
   "cell_type": "code",
   "execution_count": null,
   "metadata": {},
   "outputs": [],
   "source": [
    "idxs = np.array_split(data.input_file.indices(), 100)[99]"
   ]
  },
  {
   "cell_type": "code",
   "execution_count": null,
   "metadata": {},
   "outputs": [],
   "source": [
    "scan_num = 207\n",
    "\n",
    "data = data.clear().load(idxs=idxs, processes=16)\n",
    "data = data.update_mask(method='range-bad', vmax=40)\n",
    "data = data.mask_pupil(scan_setup, padding=60)\n",
    "data = data.import_whitefield(whitefield)\n",
    "data = data.blur_pupil(scan_setup, padding=80, blur=20)"
   ]
  },
  {
   "cell_type": "code",
   "execution_count": null,
   "metadata": {},
   "outputs": [],
   "source": [
    "%matplotlib widget\n",
    "idx = 104\n",
    "\n",
    "fig, ax = plt.subplots(1, 1, figsize=(8, 8))\n",
    "ax.imshow(data.cor_data[idx], vmin=0, vmax=3)\n",
    "plt.tight_layout()\n",
    "plt.show()"
   ]
  },
  {
   "cell_type": "code",
   "execution_count": null,
   "metadata": {},
   "outputs": [],
   "source": [
    "det_obj = data_dict[scan_num].get_detector()\n",
    "det_obj = det_obj.generate_streak_data(vmin=0.3, vmax=2.0, size=(1, 3, 3))\n",
    "det_obj = det_obj.update_lsd(quant=1.8e-2)"
   ]
  },
  {
   "cell_type": "code",
   "execution_count": null,
   "metadata": {},
   "outputs": [],
   "source": [
    "%time det_res = det_obj.detect(cutoff=70.0, filter_threshold=6.0, group_threshold=0.4)"
   ]
  },
  {
   "cell_type": "code",
   "execution_count": null,
   "metadata": {},
   "outputs": [],
   "source": [
    "%time det_res = det_res.generate_bgd_mask()"
   ]
  },
  {
   "cell_type": "code",
   "execution_count": null,
   "metadata": {},
   "outputs": [],
   "source": [
    "%time det_res = det_res.update_streak_data()"
   ]
  },
  {
   "cell_type": "code",
   "execution_count": null,
   "metadata": {},
   "outputs": [],
   "source": [
    "frame_idx = 0\n",
    "\n",
    "fig, ax = plt.subplots(figsize=(6, 6))\n",
    "# ax.imshow(det_res.data[frame_idx], vmin=0.2, vmax=2.0, cmap='gray_r')\n",
    "ax.imshow(det_obj.streak_data[frame_idx], vmax=1.0, cmap='gray_r')\n",
    "# for line in det_res.streaks[det_res.frames[frame_idx]].to_numpy():\n",
    "#     ax.plot(line[:4:2], line[1:4:2], c='r', alpha=0.4)\n",
    "ax.set_xlim(0, det_obj.data.shape[2])\n",
    "ax.set_ylim(det_obj.data.shape[1], 0)\n",
    "plt.tight_layout()\n",
    "plt.show()"
   ]
  },
  {
   "cell_type": "code",
   "execution_count": null,
   "metadata": {},
   "outputs": [],
   "source": [
    "scan_setup = cbc.ScanSetup.import_ini('results/exp_geom_206.ini')\n",
    "streaks = cbc.ScanStreaks.import_hdf('results/scan_206_indexing.h5', 'data', scan_setup)\n",
    "data = cbc.CrystData(cbc.CXIStore('results/scan_206_data.h5'))"
   ]
  },
  {
   "cell_type": "code",
   "execution_count": null,
   "metadata": {},
   "outputs": [],
   "source": [
    "frame_idx = 460\n",
    "\n",
    "pattern = streaks.pattern_image(frame_idx)\n",
    "data = data.clear().load(idxs=np.array([160]))"
   ]
  },
  {
   "cell_type": "code",
   "execution_count": null,
   "metadata": {},
   "outputs": [],
   "source": [
    "det_obj = data.get_detector()\n",
    "det_obj = det_obj.generate_streak_data(vmin=0.3, vmax=2.0, size=(1, 3, 3))\n",
    "det_obj = det_obj.update_lsd(quant=1.8e-2)"
   ]
  },
  {
   "cell_type": "code",
   "execution_count": null,
   "metadata": {},
   "outputs": [],
   "source": [
    "%time det_res = det_obj.detect(cutoff=70.0, filter_threshold=6.0, group_threshold=0.4)\n",
    "%time det_res = det_res.generate_bgd_mask()\n",
    "%time det_res = det_res.update_streak_data()"
   ]
  },
  {
   "cell_type": "code",
   "execution_count": null,
   "metadata": {},
   "outputs": [],
   "source": [
    "%matplotlib widget\n",
    "fig, axes = plt.subplots(1, 2, figsize=(8, 4))\n",
    "axes[0].imshow(pattern, vmax=0.3, cmap='gray_r')\n",
    "axes[1].imshow(data['cor_data'][0], vmax=2.0, cmap='gray_r')\n",
    "for line in det_res.streaks[frame_idx].to_numpy():\n",
    "    axes[1].plot(line[:4:2], line[1:4:2], c='r', alpha=0.4)\n",
    "plt.tight_layout()\n",
    "plt.show()"
   ]
  },
  {
   "cell_type": "markdown",
   "metadata": {},
   "source": [
    "# CBC Geometry calibration"
   ]
  },
  {
   "cell_type": "code",
   "execution_count": null,
   "metadata": {},
   "outputs": [],
   "source": [
    "# Experimental geometry\n",
    "\n",
    "log_prt = cbc.LogProtocol.import_default()\n",
    "\n",
    "foc_z = -0.012028122 # From PXST\n",
    "dir_path = '/asap3/petra3/gpfs/p11/2021/data/11010570/raw'\n",
    "h5_dir = os.path.join(dir_path, 'scan_frames/Scan_253')\n",
    "log_path = os.path.join(dir_path, 'server_log/Scan_logs/Scan_253.log')\n",
    "h5_files = sorted([os.path.join(h5_dir, path) for path in os.listdir(h5_dir)\n",
    "                   if path.endswith(('LambdaFar.nxs', '.h5')) and not path.endswith('master.h5')])\n",
    "h5_master = [os.path.join(h5_dir, path) for path in os.listdir(h5_dir)\n",
    "             if path.endswith('master.h5')][0]\n",
    "\n",
    "defocus = log_prt.load_attributes(log_path)['Session logged attributes']['z_sample'] - foc_z\n",
    "file = cbc.CXIStore(h5_master)\n",
    "with file:\n",
    "    x_pixel_size = file.load_attribute('x_pixel_size').item()\n",
    "    y_pixel_size = file.load_attribute('y_pixel_size').item()\n",
    "wl = 2.0664032162696132e-11 # 60 keV"
   ]
  },
  {
   "cell_type": "code",
   "execution_count": null,
   "metadata": {},
   "outputs": [],
   "source": [
    "pupil = np.array([2210, 2345, 1957, 2090])\n",
    "pupil_2 = np.array([2214, 2400, 1974, 2155])\n",
    "db = np.array([2171, 1913])\n",
    "db_2 = np.array([2159, 1913])"
   ]
  },
  {
   "cell_type": "code",
   "execution_count": null,
   "metadata": {},
   "outputs": [],
   "source": [
    "det_dist_2 = 0.15 / (1.0 - 0.718) # sample-to-detector distance for scan 254\n",
    "det_dist = det_dist_2 - 0.15 # sample-to-detector distance for scan 253"
   ]
  },
  {
   "cell_type": "code",
   "execution_count": null,
   "metadata": {},
   "outputs": [],
   "source": [
    "center = db + np.mean(((pupil - np.repeat(db, 2)) * defocus / det_dist).reshape((2, 2)), axis=1)\n",
    "center_2 = db_2 + np.mean(((pupil_2 - np.repeat(db_2, 2)) * defocus / det_dist_2).reshape((2, 2)), axis=1)\n",
    "tilt_shift = np.arange(4362)**2 / 2159**2 * 12.0 # Y_253 = Y_254 + tilt_shift[Y_254]\n",
    "center[0], center_2[0] + tilt_shift[int(center_2[0])]"
   ]
  },
  {
   "cell_type": "code",
   "execution_count": null,
   "metadata": {},
   "outputs": [],
   "source": [
    "delta_x = (pupil[2] - db[1]) * x_pixel_size\n",
    "delta_y = (pupil[0] - db[0]) * y_pixel_size\n",
    "phis = np.arctan2(delta_y, delta_x)\n",
    "thetas = np.arctan(np.sqrt(delta_x**2 + delta_y**2) / det_dist)\n",
    "kin_min = np.stack((np.sin(thetas) * np.cos(phis), np.sin(thetas) * np.sin(phis), np.cos(thetas)))"
   ]
  },
  {
   "cell_type": "code",
   "execution_count": null,
   "metadata": {},
   "outputs": [],
   "source": [
    "delta_x = (pupil[3] - db[1]) * x_pixel_size\n",
    "delta_y = (pupil[1] - db[0]) * y_pixel_size\n",
    "phis = np.arctan2(delta_y, delta_x)\n",
    "thetas = np.arctan(np.sqrt(delta_x**2 + delta_y**2) / det_dist)\n",
    "kin_max = np.stack((np.sin(thetas) * np.cos(phis), np.sin(thetas) * np.sin(phis), np.cos(thetas)))"
   ]
  },
  {
   "cell_type": "code",
   "execution_count": null,
   "metadata": {},
   "outputs": [],
   "source": [
    "smp_pos = np.array([center[1] * x_pixel_size,\n",
    "                    center[0] * y_pixel_size, det_dist])\n",
    "foc_pos = np.array([db[1] * x_pixel_size, db[0] * y_pixel_size, det_dist + defocus])\n",
    "scan_setup = cbc.ScanSetup(smp_pos=smp_pos, foc_pos=foc_pos, rot_axis=np.array([0.0, 1.0, 0.0]),\n",
    "                           kin_min=kin_min, kin_max=kin_max, wavelength=wl, x_pixel_size=x_pixel_size,\n",
    "                           y_pixel_size=y_pixel_size)"
   ]
  },
  {
   "cell_type": "code",
   "execution_count": null,
   "metadata": {},
   "outputs": [],
   "source": [
    "with open('results/exp_geom_248_253.ini', 'w') as ini_file:\n",
    "    scan_setup.export_ini().write(ini_file)"
   ]
  },
  {
   "cell_type": "code",
   "execution_count": null,
   "metadata": {},
   "outputs": [],
   "source": [
    "smp_pos_2 = np.array([center_2[1] * x_pixel_size,\n",
    "                      center_2[0] * y_pixel_size, det_dist_2])\n",
    "foc_pos_2 = np.array([db_2[1] * x_pixel_size, db_2[0] * y_pixel_size, det_dist_2 + defocus])\n",
    "scan_setup_2 = cbc.ScanSetup(smp_pos=smp_pos_2, foc_pos=foc_pos_2, rot_axis=np.array([0.0, 1.0, 0.0]),\n",
    "                             wavelength=wl, x_pixel_size=x_pixel_size, y_pixel_size=y_pixel_size)"
   ]
  },
  {
   "cell_type": "code",
   "execution_count": null,
   "metadata": {},
   "outputs": [],
   "source": [
    "with h5py.File('results/scan_250_proc.h5', 'r') as cxi_file:\n",
    "    whitefield = cxi_loader.read_cxi('whitefield', cxi_file)\n",
    "    mask = cxi_loader.read_cxi('mask', cxi_file)[0]"
   ]
  },
  {
   "cell_type": "code",
   "execution_count": null,
   "metadata": {},
   "outputs": [],
   "source": [
    "scan_num = 224 # Det dist = 20 cm\n",
    "data = cbc.converter_petra(dir_path, scan_num, mask=mask,\n",
    "                           pupil=(2200, 2370, 1900, 2110),\n",
    "                           roi=(1100, 3260, 1040, 3108),\n",
    "                           whitefield=whitefield)"
   ]
  },
  {
   "cell_type": "code",
   "execution_count": null,
   "metadata": {},
   "outputs": [],
   "source": [
    "scan_num = 225 # Det dist = 40 cm\n",
    "data = cbc.converter_petra(dir_path, scan_num, mask=mask,\n",
    "                           pupil=(2200, 2370, 1900, 2110),\n",
    "                           roi=(1100, 3260, 1040, 3108),\n",
    "                           whitefield=whitefield)"
   ]
  },
  {
   "cell_type": "code",
   "execution_count": null,
   "metadata": {},
   "outputs": [],
   "source": [
    "scan_num = 253 # Det dist = 40 cm\n",
    "\n",
    "data = cbc.converter_petra(dir_path, scan_num,\n",
    "                           pupil=(2200, 2370, 1900, 2110),\n",
    "                           roi=(1100, 3260, 1040, 3108))\n",
    "data.data = np.sum(data.data, axis=0, keepdims=True)\n",
    "data.good_frames = data.good_frames[[0]]\n",
    "data = data.import_mask(mask, update='multiply')\n",
    "data = data.import_whitefield(3.0 * whitefield)"
   ]
  },
  {
   "cell_type": "code",
   "execution_count": null,
   "metadata": {},
   "outputs": [],
   "source": [
    "det_obj = cbc.StreakDetector.import_data(data, 0.2, 3., (1, 3, 3))\n",
    "det_obj = det_obj.update_lsd(scale=0.9, sigma_scale=0.9, log_eps=0, ang_th=60, density_th=0.5, quant=1.5e-2)\n",
    "det_obj = det_obj.update_mask(dilation=8)\n",
    "det_obj = det_obj.update_streak_data(iterations=4)"
   ]
  },
  {
   "cell_type": "code",
   "execution_count": null,
   "metadata": {},
   "outputs": [],
   "source": [
    "scan_num = 254 # Det dist = 55 cm\n",
    "whitefield_2 = np.zeros(whitefield.shape, dtype=np.float64)\n",
    "whitefield_2[29:, 41:] = whitefield[:-29, :-41]\n",
    "mask_2 = np.ones(mask.shape, dtype=bool)\n",
    "mask_2[29:, 41:] = mask[:-29, :-41]\n",
    "\n",
    "data_2 = cbc.converter_petra(dir_path, scan_num,\n",
    "                             pupil=(2140, 2450, 1900, 2200),\n",
    "                             roi=(700, 3660, 640, 3508))\n",
    "\n",
    "data_2.data = np.sum(data_2.data, axis=0, keepdims=True)\n",
    "data_2.good_frames = data_2.good_frames[[0]]\n",
    "data_2 = data_2.import_mask(mask * mask_2, update='multiply')\n",
    "data_2 = data_2.import_whitefield(3.0 * whitefield)"
   ]
  },
  {
   "cell_type": "code",
   "execution_count": null,
   "metadata": {},
   "outputs": [],
   "source": [
    "det_obj_2 = cbc.StreakDetector.import_data(data_2, 0.2, 3., (1, 3, 3))\n",
    "det_obj_2 = det_obj_2.update_lsd(quant=2.8e-2)\n",
    "det_obj_2 = det_obj_2.update_mask(dilation=8)\n",
    "det_obj_2 = det_obj_2.update_streak_data(iterations=4)"
   ]
  },
  {
   "cell_type": "code",
   "execution_count": null,
   "metadata": {},
   "outputs": [],
   "source": [
    "%matplotlib notebook\n",
    "frame_idx = 0\n",
    "scale = 0.718\n",
    "\n",
    "\n",
    "fig, ax = plt.subplots(1, 1, figsize=(7, 7))\n",
    "ax.imshow(data.get('cor_data')[frame_idx], vmin=0.2, vmax=3., cmap='gray_r')\n",
    "for line in det_obj.streaks[frame_idx]:\n",
    "    ln = ax.plot(line[:4:2], line[1:4:2], line[4], c='r', alpha=0.6)[0]\n",
    "ln.set_label('Scan 253')\n",
    "for line in det_obj_2.streaks[frame_idx]:\n",
    "    ln = ax.plot((line[:4:2] + data_2.roi[2] - center[1]) * scale + center[1] - data.roi[2],\n",
    "                 (line[1:4:2] + data_2.roi[0] - center[0]) * scale + center[0] - data.roi[0]\n",
    "                 + tilt_shift[line[1:4:2].astype(int)], line[4], c='g', alpha=0.6)[0]\n",
    "ln.set_label('Scan 254, with a tilt')\n",
    "for line in det_obj_2.streaks[frame_idx]:\n",
    "    ln = ax.plot((line[:4:2] + data_2.roi[2] - center[1]) * scale + center[1] - data.roi[2],\n",
    "                 (line[1:4:2] + data_2.roi[0] - center[0]) * scale + center[0] - data.roi[0],\n",
    "                 line[4], c='b', alpha=0.3)[0]\n",
    "ln.set_label('Scan 254, no tilt')\n",
    "ax.scatter(1913 - data.roi[2], 2159 + tilt_shift[2159] - data.roi[0], s=50, c='r')\n",
    "ax.set_xlim(0, data.roi[3] - data.roi[2])\n",
    "ax.set_ylim(data.roi[1] - data.roi[0], 0)\n",
    "ax.legend(fontsize=15)\n",
    "plt.tight_layout()\n",
    "plt.savefig('figures/scan_253_254.jpg', dpi=300)"
   ]
  },
  {
   "cell_type": "code",
   "execution_count": null,
   "metadata": {},
   "outputs": [],
   "source": [
    "%matplotlib notebook\n",
    "\n",
    "fig, ax = plt.subplots(1, 2, figsize=(9, 5))\n",
    "ax[0].imshow(data.data[2, 2140:2450, 1900:2200], vmax=500)\n",
    "ax[1].imshow(data_2.data[2, 2140:2450, 1900:2200], vmax=500)\n",
    "plt.show()\n",
    "\n",
    "smp_pos = [0.15 / (1.0 - 0.718)"
   ]
  },
  {
   "cell_type": "code",
   "execution_count": null,
   "metadata": {},
   "outputs": [],
   "source": [
    "%matplotlib notebook\n",
    "\n",
    "fig, ax = plt.subplots(1, 2, figsize=(10, 5))\n",
    "ax[0].imshow(data.data[0, 2210:2344, 1957:2090], vmax=300000)\n",
    "ax[1].imshow(data_2.data[0, 2214:2400, 1974:2155], vmax=150000)\n",
    "plt.show()"
   ]
  }
 ],
 "metadata": {
  "kernelspec": {
   "display_name": "cbc",
   "language": "python",
   "name": "cbc"
  },
  "language_info": {
   "codemirror_mode": {
    "name": "ipython",
    "version": 3
   },
   "file_extension": ".py",
   "mimetype": "text/x-python",
   "name": "python",
   "nbconvert_exporter": "python",
   "pygments_lexer": "ipython3",
   "version": "3.9.17"
  }
 },
 "nbformat": 4,
 "nbformat_minor": 4
}
